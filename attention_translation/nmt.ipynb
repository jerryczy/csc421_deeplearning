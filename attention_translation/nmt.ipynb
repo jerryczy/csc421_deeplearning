{
  "nbformat": 4,
  "nbformat_minor": 0,
  "metadata": {
    "colab": {
      "name": "nmt.ipynb",
      "version": "0.3.2",
      "provenance": [],
      "collapsed_sections": [],
      "toc_visible": true
    },
    "kernelspec": {
      "name": "python2",
      "display_name": "Python 2"
    },
    "accelerator": "GPU"
  },
  "cells": [
    {
      "metadata": {
        "id": "TjPTaRB4mpCd",
        "colab_type": "text"
      },
      "cell_type": "markdown",
      "source": [
        "# Colab FAQ\n",
        "\n",
        "For some basic overview and features offered in Colab notebooks, check out: [Overview of Colaboratory Features](https://colab.research.google.com/notebooks/basic_features_overview.ipynb)\n",
        "\n",
        "You need to use the colab GPU for this assignmentby selecting:\n",
        "\n",
        "> **Runtime**   →   **Change runtime type**   →   **Hardware Accelerator: GPU**"
      ]
    },
    {
      "metadata": {
        "id": "s9IS9B9-yUU5",
        "colab_type": "text"
      },
      "cell_type": "markdown",
      "source": [
        "## Setup PyTorch\n",
        "All files are stored at /content/csc421/a3/ folder\n"
      ]
    },
    {
      "metadata": {
        "id": "Z-6MQhMOlHXD",
        "colab_type": "code",
        "outputId": "19c0a571-07fb-4c8a-fa01-ed8974723f2e",
        "colab": {
          "base_uri": "https://localhost:8080/",
          "height": 445
        }
      },
      "cell_type": "code",
      "source": [
        "######################################################################\n",
        "# Setup python environment and change the current working directory\n",
        "######################################################################\n",
        "!pip install torch torchvision\n",
        "!pip install Pillow==4.0.0\n",
        "%mkdir -p /content/csc421/a3/\n",
        "%cd /content/csc421/a3"
      ],
      "execution_count": 1,
      "outputs": [
        {
          "output_type": "stream",
          "text": [
            "Requirement already satisfied: torch in /usr/local/lib/python2.7/dist-packages (1.0.1.post2)\n",
            "Requirement already satisfied: torchvision in /usr/local/lib/python2.7/dist-packages (0.2.2.post3)\n",
            "Requirement already satisfied: six in /usr/local/lib/python2.7/dist-packages (from torchvision) (1.11.0)\n",
            "Requirement already satisfied: numpy in /usr/local/lib/python2.7/dist-packages (from torchvision) (1.16.2)\n",
            "Requirement already satisfied: pillow>=4.1.1 in /usr/local/lib/python2.7/dist-packages (from torchvision) (4.3.0)\n",
            "Requirement already satisfied: olefile in /usr/local/lib/python2.7/dist-packages (from pillow>=4.1.1->torchvision) (0.46)\n",
            "Collecting Pillow==4.0.0\n",
            "\u001b[?25l  Downloading https://files.pythonhosted.org/packages/89/99/0e3522a9764fe371bf9f7729404b1ef7d9c4fc49cbe5f1761c6e07812345/Pillow-4.0.0-cp27-cp27mu-manylinux1_x86_64.whl (5.6MB)\n",
            "\u001b[K    100% |████████████████████████████████| 5.6MB 1.2MB/s \n",
            "\u001b[?25hRequirement already satisfied: olefile in /usr/local/lib/python2.7/dist-packages (from Pillow==4.0.0) (0.46)\n",
            "\u001b[31mfastai 0.7.0 has requirement torch<0.4, but you'll have torch 1.0.1.post2 which is incompatible.\u001b[0m\n",
            "\u001b[31mscikit-image 0.14.2 has requirement pillow>=4.3.0, but you'll have pillow 4.0.0 which is incompatible.\u001b[0m\n",
            "\u001b[31mtorchvision 0.2.2.post3 has requirement pillow>=4.1.1, but you'll have pillow 4.0.0 which is incompatible.\u001b[0m\n",
            "Installing collected packages: Pillow\n",
            "  Found existing installation: Pillow 4.3.0\n",
            "    Uninstalling Pillow-4.3.0:\n",
            "      Successfully uninstalled Pillow-4.3.0\n",
            "Successfully installed Pillow-4.0.0\n"
          ],
          "name": "stdout"
        },
        {
          "output_type": "display_data",
          "data": {
            "application/vnd.colab-display-data+json": {
              "pip_warning": {
                "packages": [
                  "PIL"
                ]
              }
            }
          },
          "metadata": {
            "tags": []
          }
        },
        {
          "output_type": "stream",
          "text": [
            "/content/csc421/a3\n"
          ],
          "name": "stdout"
        }
      ]
    },
    {
      "metadata": {
        "id": "9DaTdRNuUra7",
        "colab_type": "text"
      },
      "cell_type": "markdown",
      "source": [
        "# Helper code"
      ]
    },
    {
      "metadata": {
        "id": "4BIpGwANoQOg",
        "colab_type": "text"
      },
      "cell_type": "markdown",
      "source": [
        "## Utility functions"
      ]
    },
    {
      "metadata": {
        "id": "D-UJHBYZkh7f",
        "colab_type": "code",
        "colab": {}
      },
      "cell_type": "code",
      "source": [
        "import os\n",
        "import pdb\n",
        "import argparse\n",
        "import pickle as pkl\n",
        "\n",
        "from collections import defaultdict\n",
        "\n",
        "import numpy as np\n",
        "import matplotlib as mpl\n",
        "import matplotlib.pyplot as plt\n",
        "import matplotlib.ticker as ticker\n",
        "\n",
        "import torch\n",
        "import torch.nn as nn\n",
        "import torch.optim as optim\n",
        "import torch.nn.functional as F\n",
        "from torch.autograd import Variable\n",
        "\n",
        "from six.moves.urllib.request import urlretrieve\n",
        "import tarfile\n",
        "import pickle\n",
        "import sys\n",
        "\n",
        "\n",
        "def get_file(fname,\n",
        "             origin,\n",
        "             untar=False,\n",
        "             extract=False,\n",
        "             archive_format='auto',\n",
        "             cache_dir='data'):\n",
        "    datadir = os.path.join(cache_dir)\n",
        "    if not os.path.exists(datadir):\n",
        "        os.makedirs(datadir)\n",
        "\n",
        "    if untar:\n",
        "        untar_fpath = os.path.join(datadir, fname)\n",
        "        fpath = untar_fpath + '.tar.gz'\n",
        "    else:\n",
        "        fpath = os.path.join(datadir, fname)\n",
        "    \n",
        "    print(fpath)\n",
        "    if not os.path.exists(fpath):\n",
        "        print('Downloading data from', origin)\n",
        "\n",
        "        error_msg = 'URL fetch failure on {}: {} -- {}'\n",
        "        try:\n",
        "            try:\n",
        "                urlretrieve(origin, fpath)\n",
        "            except URLError as e:\n",
        "                raise Exception(error_msg.format(origin, e.errno, e.reason))\n",
        "            except HTTPError as e:\n",
        "                raise Exception(error_msg.format(origin, e.code, e.msg))\n",
        "        except (Exception, KeyboardInterrupt) as e:\n",
        "            if os.path.exists(fpath):\n",
        "                os.remove(fpath)\n",
        "            raise\n",
        "\n",
        "    if untar:\n",
        "        if not os.path.exists(untar_fpath):\n",
        "            print('Extracting file.')\n",
        "            with tarfile.open(fpath) as archive:\n",
        "                archive.extractall(datadir)\n",
        "        return untar_fpath\n",
        "\n",
        "    if extract:\n",
        "        _extract_archive(fpath, datadir, archive_format)\n",
        "\n",
        "    return fpath\n",
        "\n",
        "class AttrDict(dict):\n",
        "    def __init__(self, *args, **kwargs):\n",
        "        super(AttrDict, self).__init__(*args, **kwargs)\n",
        "        self.__dict__ = self\n",
        "        \n",
        "def to_var(tensor, cuda):\n",
        "    \"\"\"Wraps a Tensor in a Variable, optionally placing it on the GPU.\n",
        "\n",
        "        Arguments:\n",
        "            tensor: A Tensor object.\n",
        "            cuda: A boolean flag indicating whether to use the GPU.\n",
        "\n",
        "        Returns:\n",
        "            A Variable object, on the GPU if cuda==True.\n",
        "    \"\"\"\n",
        "    if cuda:\n",
        "        return Variable(tensor.cuda())\n",
        "    else:\n",
        "        return Variable(tensor)\n",
        "\n",
        "\n",
        "def create_dir_if_not_exists(directory):\n",
        "    \"\"\"Creates a directory if it doesn't already exist.\n",
        "    \"\"\"\n",
        "    if not os.path.exists(directory):\n",
        "        os.makedirs(directory)\n",
        "\n",
        "\n",
        "def save_loss_plot(train_losses, val_losses, opts):\n",
        "    \"\"\"Saves a plot of the training and validation loss curves.\n",
        "    \"\"\"\n",
        "    plt.figure()\n",
        "    plt.plot(range(len(train_losses)), train_losses)\n",
        "    plt.plot(range(len(val_losses)), val_losses)\n",
        "    plt.title('BS={}, nhid={}'.format(opts.batch_size, opts.hidden_size), fontsize=20)\n",
        "    plt.xlabel('Epochs', fontsize=16)\n",
        "    plt.ylabel('Loss', fontsize=16)\n",
        "    plt.xticks(fontsize=14)\n",
        "    plt.yticks(fontsize=14)\n",
        "    plt.tight_layout()\n",
        "    plt.savefig(os.path.join(opts.checkpoint_path, 'loss_plot.pdf'))\n",
        "    plt.close()\n",
        "\n",
        "\n",
        "def checkpoint(encoder, decoder, idx_dict, opts):\n",
        "    \"\"\"Saves the current encoder and decoder models, along with idx_dict, which\n",
        "    contains the char_to_index and index_to_char mappings, and the start_token\n",
        "    and end_token values.\n",
        "    \"\"\"\n",
        "    with open(os.path.join(opts.checkpoint_path, 'encoder.pt'), 'wb') as f:\n",
        "        torch.save(encoder, f)\n",
        "\n",
        "    with open(os.path.join(opts.checkpoint_path, 'decoder.pt'), 'wb') as f:\n",
        "        torch.save(decoder, f)\n",
        "\n",
        "    with open(os.path.join(opts.checkpoint_path, 'idx_dict.pkl'), 'wb') as f:\n",
        "        pkl.dump(idx_dict, f)\n"
      ],
      "execution_count": 0,
      "outputs": []
    },
    {
      "metadata": {
        "id": "pbvpn4MaV0I1",
        "colab_type": "text"
      },
      "cell_type": "markdown",
      "source": [
        "## Data loader"
      ]
    },
    {
      "metadata": {
        "id": "XVT4TNTOV3Eg",
        "colab_type": "code",
        "colab": {}
      },
      "cell_type": "code",
      "source": [
        "def read_lines(filename):\n",
        "    \"\"\"Read a file and split it into lines.\n",
        "    \"\"\"\n",
        "    lines = open(filename).read().strip().lower().split('\\n')\n",
        "    return lines\n",
        "\n",
        "\n",
        "def read_pairs(filename):\n",
        "    \"\"\"Reads lines that consist of two words, separated by a space.\n",
        "\n",
        "    Returns:\n",
        "        source_words: A list of the first word in each line of the file.\n",
        "        target_words: A list of the second word in each line of the file.\n",
        "    \"\"\"\n",
        "    lines = read_lines(filename)\n",
        "    source_words, target_words = [], []\n",
        "    for line in lines:\n",
        "        line = line.strip()\n",
        "        if line:\n",
        "            source, target = line.split()\n",
        "            source_words.append(source)\n",
        "            target_words.append(target)\n",
        "    return source_words, target_words\n",
        "\n",
        "\n",
        "def all_alpha_or_dash(s):\n",
        "    \"\"\"Helper function to check whether a string is alphabetic, allowing dashes '-'.\n",
        "    \"\"\"\n",
        "    return all(c.isalpha() or c == '-' for c in s)\n",
        "\n",
        "\n",
        "def filter_lines(lines):\n",
        "    \"\"\"Filters lines to consist of only alphabetic characters or dashes \"-\".\n",
        "    \"\"\"\n",
        "    return [line for line in lines if all_alpha_or_dash(line)]\n",
        "\n",
        "\n",
        "def load_data():\n",
        "    \"\"\"Loads (English, Pig-Latin) word pairs, and creates mappings from characters to indexes.\n",
        "    \"\"\"\n",
        "\n",
        "    source_lines, target_lines = read_pairs('data/pig_latin_data.txt')\n",
        "\n",
        "    # Filter lines\n",
        "    source_lines = filter_lines(source_lines)\n",
        "    target_lines = filter_lines(target_lines)\n",
        "\n",
        "    all_characters = set(''.join(source_lines)) | set(''.join(target_lines))\n",
        "\n",
        "    # Create a dictionary mapping each character to a unique index\n",
        "    char_to_index = { char: index for (index, char) in enumerate(sorted(list(all_characters))) }\n",
        "\n",
        "    # Add start and end tokens to the dictionary\n",
        "    start_token = len(char_to_index)\n",
        "    end_token = len(char_to_index) + 1\n",
        "    char_to_index['SOS'] = start_token\n",
        "    char_to_index['EOS'] = end_token\n",
        "\n",
        "    # Create the inverse mapping, from indexes to characters (used to decode the model's predictions)\n",
        "    index_to_char = { index: char for (char, index) in char_to_index.items() }\n",
        "\n",
        "    # Store the final size of the vocabulary\n",
        "    vocab_size = len(char_to_index)\n",
        "\n",
        "    line_pairs = list(set(zip(source_lines, target_lines)))  # Python 3\n",
        "\n",
        "    idx_dict = { 'char_to_index': char_to_index,\n",
        "                 'index_to_char': index_to_char,\n",
        "                 'start_token': start_token,\n",
        "                 'end_token': end_token }\n",
        "\n",
        "    return line_pairs, vocab_size, idx_dict\n",
        "\n",
        "\n",
        "def create_dict(pairs):\n",
        "    \"\"\"Creates a mapping { (source_length, target_length): [list of (source, target) pairs]\n",
        "    This is used to make batches: each batch consists of two parallel tensors, one containing\n",
        "    all source indexes and the other containing all corresponding target indexes.\n",
        "    Within a batch, all the source words are the same length, and all the target words are\n",
        "    the same length.\n",
        "    \"\"\"\n",
        "    unique_pairs = list(set(pairs))  # Find all unique (source, target) pairs\n",
        "\n",
        "    d = defaultdict(list)\n",
        "    for (s,t) in unique_pairs:\n",
        "        d[(len(s), len(t))].append((s,t))\n",
        "\n",
        "    return d\n"
      ],
      "execution_count": 0,
      "outputs": []
    },
    {
      "metadata": {
        "id": "bRWfRdmVVjUl",
        "colab_type": "text"
      },
      "cell_type": "markdown",
      "source": [
        "## Training and evaluation code"
      ]
    },
    {
      "metadata": {
        "id": "wa5-onJhoSeM",
        "colab_type": "code",
        "colab": {}
      },
      "cell_type": "code",
      "source": [
        "def string_to_index_list(s, char_to_index, end_token):\n",
        "    \"\"\"Converts a sentence into a list of indexes (for each character).\n",
        "    \"\"\"\n",
        "    return [char_to_index[char] for char in s] + [end_token]  # Adds the end token to each index list\n",
        "\n",
        "\n",
        "def translate_sentence(sentence, encoder, decoder, idx_dict, opts):\n",
        "    \"\"\"Translates a sentence from English to Pig-Latin, by splitting the sentence into\n",
        "    words (whitespace-separated), running the encoder-decoder model to translate each\n",
        "    word independently, and then stitching the words back together with spaces between them.\n",
        "    \"\"\"\n",
        "    if idx_dict is None:\n",
        "      line_pairs, vocab_size, idx_dict = load_data()\n",
        "    return ' '.join([translate(word, encoder, decoder, idx_dict, opts) for word in sentence.split()])\n",
        "\n",
        "\n",
        "def translate(input_string, encoder, decoder, idx_dict, opts):\n",
        "    \"\"\"Translates a given string from English to Pig-Latin.\n",
        "    \"\"\"\n",
        "\n",
        "    char_to_index = idx_dict['char_to_index']\n",
        "    index_to_char = idx_dict['index_to_char']\n",
        "    start_token = idx_dict['start_token']\n",
        "    end_token = idx_dict['end_token']\n",
        "\n",
        "    max_generated_chars = 20\n",
        "    gen_string = ''\n",
        "\n",
        "    indexes = string_to_index_list(input_string, char_to_index, end_token)\n",
        "    indexes = to_var(torch.LongTensor(indexes).unsqueeze(0), opts.cuda)  # Unsqueeze to make it like BS = 1\n",
        "\n",
        "    encoder_annotations, encoder_last_hidden = encoder(indexes)\n",
        "\n",
        "    decoder_hidden = encoder_last_hidden\n",
        "    decoder_input = to_var(torch.LongTensor([[start_token]]), opts.cuda)  # For BS = 1\n",
        "    decoder_inputs = decoder_input\n",
        "\n",
        "    for i in range(max_generated_chars):\n",
        "      ## slow decoding, recompute everything at each time\n",
        "      decoder_outputs, attention_weights = decoder(decoder_inputs, encoder_annotations, decoder_hidden)\n",
        "      generated_words = F.softmax(decoder_outputs, dim=2).max(2)[1]\n",
        "      ni = generated_words.cpu().numpy().reshape(-1)  # LongTensor of size 1\n",
        "      ni = ni[-1] #latest output token\n",
        "\n",
        "      decoder_inputs = torch.cat([decoder_input, generated_words], dim=1)\n",
        "      \n",
        "      if ni == end_token:\n",
        "          break\n",
        "      else:\n",
        "          gen_string = \"\".join(\n",
        "              [index_to_char[int(item)] \n",
        "               for item in generated_words.cpu().numpy().reshape(-1)])\n",
        "\n",
        "    return gen_string\n",
        "\n",
        "\n",
        "def visualize_attention(input_string, encoder, decoder, idx_dict, opts):\n",
        "    \"\"\"Generates a heatmap to show where attention is focused in each decoder step.\n",
        "    \"\"\"\n",
        "    if idx_dict is None:\n",
        "      line_pairs, vocab_size, idx_dict = load_data()\n",
        "    char_to_index = idx_dict['char_to_index']\n",
        "    index_to_char = idx_dict['index_to_char']\n",
        "    start_token = idx_dict['start_token']\n",
        "    end_token = idx_dict['end_token']\n",
        "\n",
        "    max_generated_chars = 20\n",
        "    gen_string = ''\n",
        "\n",
        "    indexes = string_to_index_list(input_string, char_to_index, end_token)\n",
        "    indexes = to_var(torch.LongTensor(indexes).unsqueeze(0), opts.cuda)  # Unsqueeze to make it like BS = 1\n",
        "\n",
        "    encoder_annotations, encoder_hidden = encoder(indexes)\n",
        "\n",
        "    decoder_hidden = encoder_hidden\n",
        "    decoder_input = to_var(torch.LongTensor([[start_token]]), opts.cuda)  # For BS = 1\n",
        "    decoder_inputs = decoder_input\n",
        "\n",
        "    produced_end_token = False\n",
        "\n",
        "    for i in range(max_generated_chars):\n",
        "      ## slow decoding, recompute everything at each time\n",
        "      decoder_outputs, attention_weights = decoder(decoder_inputs, encoder_annotations, decoder_hidden)\n",
        "      generated_words = F.softmax(decoder_outputs, dim=2).max(2)[1]\n",
        "      ni = generated_words.cpu().numpy().reshape(-1)  # LongTensor of size 1\n",
        "      ni = ni[-1] #latest output token\n",
        "      \n",
        "      decoder_inputs = torch.cat([decoder_input, generated_words], dim=1)\n",
        "      \n",
        "      if ni == end_token:\n",
        "          break\n",
        "      else:\n",
        "          gen_string = \"\".join(\n",
        "              [index_to_char[int(item)] \n",
        "               for item in generated_words.cpu().numpy().reshape(-1)])\n",
        "    \n",
        "    if isinstance(attention_weights, tuple):\n",
        "      ## transformer's attention mweights\n",
        "      attention_weights, self_attention_weights = attention_weights\n",
        "    \n",
        "    all_attention_weights = attention_weights.data.cpu().numpy()\n",
        "    \n",
        "    for i in range(len(all_attention_weights)):\n",
        "      attention_weights_matrix = all_attention_weights[i].squeeze()\n",
        "      fig = plt.figure()\n",
        "      ax = fig.add_subplot(111)\n",
        "      cax = ax.matshow(attention_weights_matrix, cmap='bone')\n",
        "      fig.colorbar(cax)\n",
        "\n",
        "      # Set up axes\n",
        "      ax.set_yticklabels([''] + list(input_string) + ['EOS'], rotation=90)\n",
        "      ax.set_xticklabels([''] + list(gen_string) + (['EOS'] if produced_end_token else []))\n",
        "\n",
        "      # Show label at every tick\n",
        "      ax.xaxis.set_major_locator(ticker.MultipleLocator(1))\n",
        "      ax.yaxis.set_major_locator(ticker.MultipleLocator(1))\n",
        "      # Add title\n",
        "      plt.xlabel('Attention weights to the source sentence in layer {}'.format(i+1))\n",
        "      plt.tight_layout()\n",
        "      plt.grid('off')\n",
        "      plt.show()\n",
        "      #plt.savefig(save)\n",
        "\n",
        "      #plt.close(fig)\n",
        "\n",
        "    return gen_string\n",
        "\n",
        "\n",
        "def compute_loss(data_dict, encoder, decoder, idx_dict, criterion, optimizer, opts):\n",
        "    \"\"\"Train/Evaluate the model on a dataset.\n",
        "\n",
        "    Arguments:\n",
        "        data_dict: The validation/test word pairs, organized by source and target lengths.\n",
        "        encoder: An encoder model to produce annotations for each step of the input sequence.\n",
        "        decoder: A decoder model (with or without attention) to generate output tokens.\n",
        "        idx_dict: Contains char-to-index and index-to-char mappings, and start & end token indexes.\n",
        "        criterion: Used to compute the CrossEntropyLoss for each decoder output.\n",
        "        optimizer: Train the weights if an optimizer is given. None if only evaluate the model. \n",
        "        opts: The command-line arguments.\n",
        "\n",
        "    Returns:\n",
        "        mean_loss: The average loss over all batches from data_dict.\n",
        "    \"\"\"\n",
        "    start_token = idx_dict['start_token']\n",
        "    end_token = idx_dict['end_token']\n",
        "    char_to_index = idx_dict['char_to_index']\n",
        "\n",
        "    losses = []\n",
        "    for key in data_dict:\n",
        "        input_strings, target_strings = zip(*data_dict[key])\n",
        "        input_tensors = [torch.LongTensor(string_to_index_list(s, char_to_index, end_token)) for s in input_strings]\n",
        "        target_tensors = [torch.LongTensor(string_to_index_list(s, char_to_index, end_token)) for s in target_strings]\n",
        "\n",
        "        num_tensors = len(input_tensors)\n",
        "        num_batches = int(np.ceil(num_tensors / float(opts.batch_size)))\n",
        "\n",
        "        for i in range(num_batches):\n",
        "\n",
        "            start = i * opts.batch_size\n",
        "            end = start + opts.batch_size\n",
        "\n",
        "            inputs = to_var(torch.stack(input_tensors[start:end]), opts.cuda)\n",
        "            targets = to_var(torch.stack(target_tensors[start:end]), opts.cuda)\n",
        "\n",
        "            # The batch size may be different in each epoch\n",
        "            BS = inputs.size(0)\n",
        "\n",
        "            encoder_annotations, encoder_hidden = encoder(inputs)\n",
        "\n",
        "            # The last hidden state of the encoder becomes the first hidden state of the decoder\n",
        "            decoder_hidden = encoder_hidden\n",
        "\n",
        "            start_vector = torch.ones(BS).long().unsqueeze(1) * start_token  # BS x 1 --> 16x1  CHECKED\n",
        "            decoder_input = to_var(start_vector, opts.cuda)  # BS x 1 --> 16x1  CHECKED\n",
        "\n",
        "            loss = 0.0\n",
        "\n",
        "            seq_len = targets.size(1)  # Gets seq_len from BS x seq_len\n",
        "\n",
        "            decoder_inputs = torch.cat([decoder_input, targets[:, 0:-1]], dim=1)  # Gets decoder inputs by shifting the targets to the right \n",
        "            \n",
        "            decoder_outputs, attention_weights = decoder(decoder_inputs, encoder_annotations, encoder_hidden)\n",
        "            decoder_outputs_flatten = decoder_outputs.view(-1, decoder_outputs.size(2))\n",
        "            targets_flatten = targets.view(-1)\n",
        "            loss = criterion(decoder_outputs_flatten, targets_flatten)\n",
        "\n",
        "            losses.append(loss.item())\n",
        "\n",
        "            ## training if an optimizer is provided\n",
        "            if optimizer:\n",
        "              # Zero gradients\n",
        "              optimizer.zero_grad()\n",
        "              # Compute gradients\n",
        "              loss.backward()\n",
        "              # Update the parameters of the encoder and decoder\n",
        "              optimizer.step()\n",
        "              \n",
        "    mean_loss = np.mean(losses)\n",
        "    return mean_loss\n",
        "\n",
        "  \n",
        "\n",
        "def training_loop(train_dict, val_dict, idx_dict, encoder, decoder, criterion, optimizer, opts):\n",
        "    \"\"\"Runs the main training loop; evaluates the model on the val set every epoch.\n",
        "        * Prints training and val loss each epoch.\n",
        "        * Prints qualitative translation results each epoch using TEST_SENTENCE\n",
        "        * Saves an attention map for TEST_WORD_ATTN each epoch\n",
        "\n",
        "    Arguments:\n",
        "        train_dict: The training word pairs, organized by source and target lengths.\n",
        "        val_dict: The validation word pairs, organized by source and target lengths.\n",
        "        idx_dict: Contains char-to-index and index-to-char mappings, and start & end token indexes.\n",
        "        encoder: An encoder model to produce annotations for each step of the input sequence.\n",
        "        decoder: A decoder model (with or without attention) to generate output tokens.\n",
        "        criterion: Used to compute the CrossEntropyLoss for each decoder output.\n",
        "        optimizer: Implements a step rule to update the parameters of the encoder and decoder.\n",
        "        opts: The command-line arguments.\n",
        "    \"\"\"\n",
        "\n",
        "    start_token = idx_dict['start_token']\n",
        "    end_token = idx_dict['end_token']\n",
        "    char_to_index = idx_dict['char_to_index']\n",
        "\n",
        "    loss_log = open(os.path.join(opts.checkpoint_path, 'loss_log.txt'), 'w')\n",
        "\n",
        "    best_val_loss = 1e6\n",
        "    train_losses = []\n",
        "    val_losses = []\n",
        "\n",
        "    for epoch in range(opts.nepochs):\n",
        "\n",
        "        optimizer.param_groups[0]['lr'] *= opts.lr_decay\n",
        "        \n",
        "        train_loss = compute_loss(train_dict, encoder, decoder, idx_dict, criterion, optimizer, opts)\n",
        "        val_loss = compute_loss(val_dict, encoder, decoder, idx_dict, criterion, None, opts)\n",
        "\n",
        "        if val_loss < best_val_loss:\n",
        "            checkpoint(encoder, decoder, idx_dict, opts)\n",
        "\n",
        "        gen_string = translate_sentence(TEST_SENTENCE, encoder, decoder, idx_dict, opts)\n",
        "        print(\"Epoch: {:3d} | Train loss: {:.3f} | Val loss: {:.3f} | Gen: {:20s}\".format(epoch, train_loss, val_loss, gen_string))\n",
        "\n",
        "        loss_log.write('{} {} {}\\n'.format(epoch, train_loss, val_loss))\n",
        "        loss_log.flush()\n",
        "\n",
        "        train_losses.append(train_loss)\n",
        "        val_losses.append(val_loss)\n",
        "\n",
        "        save_loss_plot(train_losses, val_losses, opts)\n",
        "\n",
        "\n",
        "def print_data_stats(line_pairs, vocab_size, idx_dict):\n",
        "    \"\"\"Prints example word pairs, the number of data points, and the vocabulary.\n",
        "    \"\"\"\n",
        "    print('=' * 80)\n",
        "    print('Data Stats'.center(80))\n",
        "    print('-' * 80)\n",
        "    for pair in line_pairs[:5]:\n",
        "        print(pair)\n",
        "    print('Num unique word pairs: {}'.format(len(line_pairs)))\n",
        "    print('Vocabulary: {}'.format(idx_dict['char_to_index'].keys()))\n",
        "    print('Vocab size: {}'.format(vocab_size))\n",
        "    print('=' * 80)\n",
        "\n",
        "\n",
        "def train(opts):\n",
        "    line_pairs, vocab_size, idx_dict = load_data()\n",
        "    print_data_stats(line_pairs, vocab_size, idx_dict)\n",
        "\n",
        "    # Split the line pairs into an 80% train and 20% val split\n",
        "    num_lines = len(line_pairs)\n",
        "    num_train = int(0.8 * num_lines)\n",
        "    train_pairs, val_pairs = line_pairs[:num_train], line_pairs[num_train:]\n",
        "\n",
        "    # Group the data by the lengths of the source and target words, to form batches\n",
        "    train_dict = create_dict(train_pairs)\n",
        "    val_dict = create_dict(val_pairs)\n",
        "\n",
        "    ##########################################################################\n",
        "    ### Setup: Create Encoder, Decoder, Learning Criterion, and Optimizers ###\n",
        "    ##########################################################################\n",
        "    encoder = GRUEncoder(vocab_size=vocab_size, \n",
        "                         hidden_size=opts.hidden_size, \n",
        "                         opts=opts)\n",
        "\n",
        "    if opts.decoder_type == 'rnn':\n",
        "        decoder = RNNDecoder(vocab_size=vocab_size, \n",
        "                             hidden_size=opts.hidden_size)\n",
        "    elif opts.decoder_type == 'rnn_attention':\n",
        "        decoder = RNNAttentionDecoder(vocab_size=vocab_size, \n",
        "                                      hidden_size=opts.hidden_size, \n",
        "                                      attention_type=opts.attention_type)\n",
        "    elif opts.decoder_type == 'transformer':\n",
        "        decoder = TransformerDecoder(vocab_size=vocab_size, \n",
        "                                     hidden_size=opts.hidden_size, \n",
        "                                     num_layers=opts.num_transformer_layers)\n",
        "    else:\n",
        "        raise NotImplementedError\n",
        "        \n",
        "    #### setup checkpoint path\n",
        "    model_name = 'h{}-bs{}-{}'.format(opts.hidden_size, \n",
        "                                      opts.batch_size, \n",
        "                                      opts.decoder_type)\n",
        "    opts.checkpoint_path = model_name\n",
        "    create_dir_if_not_exists(opts.checkpoint_path)\n",
        "    ####\n",
        "\n",
        "    if opts.cuda:\n",
        "        encoder.cuda()\n",
        "        decoder.cuda()\n",
        "        print(\"Moved models to GPU!\")\n",
        "\n",
        "    criterion = nn.CrossEntropyLoss()\n",
        "    optimizer = optim.Adam(list(encoder.parameters()) + list(decoder.parameters()), lr=opts.learning_rate)\n",
        "\n",
        "    try:\n",
        "        training_loop(train_dict, val_dict, idx_dict, encoder, decoder, criterion, optimizer, opts)\n",
        "    except KeyboardInterrupt:\n",
        "        print('Exiting early from training.')\n",
        "        return encoder, decoder\n",
        "      \n",
        "    return encoder, decoder\n",
        "\n",
        "\n",
        "def print_opts(opts):\n",
        "    \"\"\"Prints the values of all command-line arguments.\n",
        "    \"\"\"\n",
        "    print('=' * 80)\n",
        "    print('Opts'.center(80))\n",
        "    print('-' * 80)\n",
        "    for key in opts.__dict__:\n",
        "        print('{:>30}: {:<30}'.format(key, opts.__dict__[key]).center(80))\n",
        "    print('=' * 80)\n"
      ],
      "execution_count": 0,
      "outputs": []
    },
    {
      "metadata": {
        "id": "bXNsLNkOn38w",
        "colab_type": "text"
      },
      "cell_type": "markdown",
      "source": [
        "# Your code for NMT models"
      ]
    },
    {
      "metadata": {
        "id": "_BAfi_8yWB3y",
        "colab_type": "text"
      },
      "cell_type": "markdown",
      "source": [
        "## GRU cell"
      ]
    },
    {
      "metadata": {
        "id": "9ztmyA5Ro67o",
        "colab_type": "code",
        "colab": {}
      },
      "cell_type": "code",
      "source": [
        "class MyGRUCell(nn.Module):\n",
        "    def __init__(self, input_size, hidden_size):\n",
        "        super(MyGRUCell, self).__init__()\n",
        "\n",
        "        self.input_size = input_size\n",
        "        self.hidden_size = hidden_size\n",
        "\n",
        "        # ------------\n",
        "        # FILL THIS IN\n",
        "        # ------------\n",
        "        ## Input linear layers\n",
        "        self.Wiz = nn.Linear(self.input_size, self.hidden_size).cuda()\n",
        "        self.Wir = nn.Linear(self.input_size, self.hidden_size).cuda()\n",
        "        self.Wih = nn.Linear(self.input_size, self.hidden_size).cuda()\n",
        "\n",
        "        ## Hidden linear layers\n",
        "        self.Whz = nn.Linear(self.hidden_size, self.hidden_size).cuda()\n",
        "        self.Whr = nn.Linear(self.hidden_size, self.hidden_size).cuda()\n",
        "        self.Whh = nn.Linear(self.hidden_size, self.hidden_size).cuda()\n",
        "        \n",
        "\n",
        "\n",
        "    def forward(self, x, h_prev):\n",
        "        \"\"\"Forward pass of the GRU computation for one time step.\n",
        "\n",
        "        Arguments\n",
        "            x: batch_size x input_size\n",
        "            h_prev: batch_size x hidden_size\n",
        "\n",
        "        Returns:\n",
        "            h_new: batch_size x hidden_size\n",
        "        \"\"\"\n",
        "\n",
        "        # ------------\n",
        "        # FILL THIS IN\n",
        "        # ------------\n",
        "        z = torch.sigmoid(self.Wiz(x) + self.Whz(h_prev))\n",
        "        r = torch.sigmoid(self.Wir(x) + self.Whr(h_prev))\n",
        "        g = torch.tanh(self.Wih(x) + self.Whh(h_prev))\n",
        "        h_new = (1 - z) * g + z * h_prev\n",
        "        return h_new\n",
        "\n",
        "        "
      ],
      "execution_count": 0,
      "outputs": []
    },
    {
      "metadata": {
        "id": "-JBVFLEZWNC1",
        "colab_type": "text"
      },
      "cell_type": "markdown",
      "source": [
        "### GRU encoder / decoder"
      ]
    },
    {
      "metadata": {
        "id": "xaDt7XDmWRzC",
        "colab_type": "code",
        "colab": {}
      },
      "cell_type": "code",
      "source": [
        "class GRUEncoder(nn.Module):\n",
        "    def __init__(self, vocab_size, hidden_size, opts):\n",
        "        super(GRUEncoder, self).__init__()\n",
        "\n",
        "        self.vocab_size = vocab_size\n",
        "        self.hidden_size = hidden_size\n",
        "        self.opts = opts\n",
        "\n",
        "        self.embedding = nn.Embedding(vocab_size, hidden_size)\n",
        "        self.gru = nn.GRUCell(hidden_size, hidden_size)\n",
        "#         self.gru = MyGRUCell(hidden_size, hidden_size)\n",
        "\n",
        "    def forward(self, inputs):\n",
        "        \"\"\"Forward pass of the encoder RNN.\n",
        "\n",
        "        Arguments:\n",
        "            inputs: Input token indexes across a batch for all time steps in the sequence. (batch_size x seq_len)\n",
        "\n",
        "        Returns:\n",
        "            annotations: The hidden states computed at each step of the input sequence. (batch_size x seq_len x hidden_size)\n",
        "            hidden: The final hidden state of the encoder, for each sequence in a batch. (batch_size x hidden_size)\n",
        "        \"\"\"\n",
        "\n",
        "        batch_size, seq_len = inputs.size()\n",
        "        hidden = self.init_hidden(batch_size)\n",
        "\n",
        "        encoded = self.embedding(inputs)  # batch_size x seq_len x hidden_size\n",
        "        annotations = []\n",
        "\n",
        "        for i in range(seq_len):\n",
        "            x = encoded[:,i,:]  # Get the current time step, across the whole batch\n",
        "            hidden = self.gru(x, hidden)\n",
        "            annotations.append(hidden)\n",
        "\n",
        "        annotations = torch.stack(annotations, dim=1)\n",
        "        return annotations, hidden\n",
        "\n",
        "    def init_hidden(self, bs):\n",
        "        \"\"\"Creates a tensor of zeros to represent the initial hidden states\n",
        "        of a batch of sequences.\n",
        "\n",
        "        Arguments:\n",
        "            bs: The batch size for the initial hidden state.\n",
        "\n",
        "        Returns:\n",
        "            hidden: An initial hidden state of all zeros. (batch_size x hidden_size)\n",
        "        \"\"\"\n",
        "        return to_var(torch.zeros(bs, self.hidden_size), self.opts.cuda)\n",
        "\n",
        "\n",
        "class RNNDecoder(nn.Module):\n",
        "    def __init__(self, vocab_size, hidden_size):\n",
        "        super(RNNDecoder, self).__init__()\n",
        "        self.vocab_size = vocab_size\n",
        "        self.hidden_size = hidden_size\n",
        "\n",
        "        self.embedding = nn.Embedding(vocab_size, hidden_size)\n",
        "        self.rnn = nn.GRUCell(input_size=hidden_size, hidden_size=hidden_size)\n",
        "#         self.rnn = MyGRUCell(input_size=hidden_size, hidden_size=hidden_size)\n",
        "        self.out = nn.Linear(hidden_size, vocab_size)\n",
        "\n",
        "    def forward(self, inputs, annotations, hidden_init):\n",
        "        \"\"\"Forward pass of the non-attentional decoder RNN.\n",
        "\n",
        "        Arguments:\n",
        "            inputs: Input token indexes across a batch. (batch_size x seq_len)\n",
        "            annotations: This is not used here. It just maintains consistency with the\n",
        "                    interface used by the AttentionDecoder class.\n",
        "            hidden_init: The hidden states from the last step of encoder, across a batch. (batch_size x hidden_size)\n",
        "\n",
        "        Returns:\n",
        "            output: Un-normalized scores for each token in the vocabulary, across a batch for all the decoding time steps. (batch_size x decoder_seq_len x vocab_size)\n",
        "            None\n",
        "        \"\"\"        \n",
        "        batch_size, seq_len = inputs.size()\n",
        "        embed = self.embedding(inputs)  # batch_size x seq_len x hidden_size        \n",
        "\n",
        "        hiddens = []\n",
        "        h_prev = hidden_init\n",
        "        for i in range(seq_len):\n",
        "            x = embed[:,i,:]  # Get the current time step input tokens, across the whole batch\n",
        "            h_prev = self.rnn(x, h_prev)  # batch_size x hidden_size\n",
        "            hiddens.append(h_prev)\n",
        "\n",
        "        hiddens = torch.stack(hiddens, dim=1) # batch_size x seq_len x hidden_size\n",
        "        \n",
        "        output = self.out(hiddens)  # batch_size x seq_len x vocab_size\n",
        "        return output, None      \n"
      ],
      "execution_count": 0,
      "outputs": []
    },
    {
      "metadata": {
        "id": "tWe0RO5FWajD",
        "colab_type": "text"
      },
      "cell_type": "markdown",
      "source": [
        "## Attention"
      ]
    },
    {
      "metadata": {
        "id": "9GUK5A7CWhV8",
        "colab_type": "code",
        "colab": {}
      },
      "cell_type": "code",
      "source": [
        "class AdditiveAttention(nn.Module):\n",
        "    def __init__(self, hidden_size):\n",
        "        super(AdditiveAttention, self).__init__()\n",
        "\n",
        "        self.hidden_size = hidden_size\n",
        "\n",
        "        # A two layer fully-connected network\n",
        "        # hidden_size*2 --> hidden_size, ReLU, hidden_size --> 1\n",
        "        self.attention_network = nn.Sequential(\n",
        "                                    nn.Linear(hidden_size*2, hidden_size),\n",
        "                                    nn.ReLU(),\n",
        "                                    nn.Linear(hidden_size, 1)\n",
        "                                 )\n",
        "\n",
        "        self.softmax = nn.Softmax(dim=1)\n",
        "\n",
        "    def forward(self, queries, keys, values):\n",
        "        \"\"\"The forward pass of the additive attention mechanism.\n",
        "\n",
        "        Arguments:\n",
        "            queries: The current decoder hidden state. (batch_size x hidden_size)\n",
        "            keys: The encoder hidden states for each step of the input sequence. (batch_size x seq_len x hidden_size)\n",
        "            values: The encoder hidden states for each step of the input sequence. (batch_size x seq_len x hidden_size)\n",
        "\n",
        "        Returns:\n",
        "            context: weighted average of the values (batch_size x 1 x hidden_size)\n",
        "            attention_weights: Normalized attention weights for each encoder hidden state. (batch_size x seq_len x 1)\n",
        "\n",
        "            The attention_weights must be a softmax weighting over the seq_len annotations.\n",
        "        \"\"\"\n",
        "\n",
        "        # ------------\n",
        "        # FILL THIS IN\n",
        "        # ------------\n",
        "        batch_size, seq_len, hidden_size = keys.shape\n",
        "        expanded_queries = queries.view(batch_size, -1, hidden_size).expand_as(keys)\n",
        "        concat_inputs = torch.cat((expanded_queries, keys), dim=2)\n",
        "        unnormalized_attention = self.attention_network(concat_inputs)\n",
        "        attention_weights = self.softmax(unnormalized_attention)\n",
        "        context = torch.bmm(attention_weights.transpose(1, 2), values)\n",
        "        return context, attention_weights\n",
        "        \n",
        "      \n",
        "\n",
        "class ScaledDotAttention(nn.Module):\n",
        "    def __init__(self, hidden_size):\n",
        "        super(ScaledDotAttention, self).__init__()\n",
        "\n",
        "        self.hidden_size = hidden_size\n",
        "\n",
        "        self.Q = nn.Linear(hidden_size, hidden_size)\n",
        "        self.K = nn.Linear(hidden_size, hidden_size)\n",
        "        self.V = nn.Linear(hidden_size, hidden_size)\n",
        "        self.softmax = nn.Softmax(dim=1)\n",
        "        self.scaling_factor = torch.rsqrt(torch.tensor(self.hidden_size, dtype= torch.float))\n",
        "\n",
        "    def forward(self, queries, keys, values):\n",
        "        \"\"\"The forward pass of the scaled dot attention mechanism.\n",
        "\n",
        "        Arguments:\n",
        "            queries: The current decoder hidden state, 2D or 3D tensor. (batch_size x (k) x hidden_size)\n",
        "            keys: The encoder hidden states for each step of the input sequence. (batch_size x seq_len x hidden_size)\n",
        "            values: The encoder hidden states for each step of the input sequence. (batch_size x seq_len x hidden_size)\n",
        "\n",
        "        Returns:\n",
        "            context: weighted average of the values (batch_size x k x hidden_size)\n",
        "            attention_weights: Normalized attention weights for each encoder hidden state. (batch_size x seq_len x k)\n",
        "\n",
        "            The output must be a softmax weighting over the seq_len annotations.\n",
        "        \"\"\"\n",
        "\n",
        "        # ------------\n",
        "        # FILL THIS IN\n",
        "        # ------------\n",
        "        batch_size, seq_len, hidden_size = keys.shape\n",
        "        q = self.Q(queries)\n",
        "        if len(queries.shape) == 2:\n",
        "          q = self.Q(queries.view(batch_size, 1, hidden_size))\n",
        "        k = self.K(keys)\n",
        "        v = self.V(values)\n",
        "        unnormalized_attention = torch.bmm(k, q.permute(0, 2, 1)) * self.scaling_factor\n",
        "        attention_weights = self.softmax(unnormalized_attention)\n",
        "        context = torch.bmm(attention_weights.transpose(1, 2), v)\n",
        "        return context, attention_weights\n",
        "        \n",
        "\n",
        "      \n",
        "      \n",
        "class CausalScaledDotAttention(nn.Module):\n",
        "    def __init__(self, hidden_size):\n",
        "        super(CausalScaledDotAttention, self).__init__()\n",
        "\n",
        "        self.hidden_size = hidden_size\n",
        "        self.neg_inf = torch.tensor(-1e7)\n",
        "\n",
        "        self.Q = nn.Linear(hidden_size, hidden_size)\n",
        "        self.K = nn.Linear(hidden_size, hidden_size)\n",
        "        self.V = nn.Linear(hidden_size, hidden_size)\n",
        "        self.softmax = nn.Softmax(dim=1)\n",
        "        self.scaling_factor = torch.rsqrt(torch.tensor(self.hidden_size, dtype= torch.float))\n",
        "\n",
        "    def forward(self, queries, keys, values):\n",
        "        \"\"\"The forward pass of the scaled dot attention mechanism.\n",
        "\n",
        "        Arguments:\n",
        "            queries: The current decoder hidden state, 2D or 3D tensor. (batch_size x (k) x hidden_size)\n",
        "            keys: The encoder hidden states for each step of the input sequence. (batch_size x seq_len x hidden_size)\n",
        "            values: The encoder hidden states for each step of the input sequence. (batch_size x seq_len x hidden_size)\n",
        "\n",
        "        Returns:\n",
        "            context: weighted average of the values (batch_size x k x hidden_size)\n",
        "            attention_weights: Normalized attention weights for each encoder hidden state. (batch_size x seq_len x k)\n",
        "\n",
        "            The output must be a softmax weighting over the seq_len annotations.\n",
        "        \"\"\"\n",
        "\n",
        "        # ------------\n",
        "        # FILL THIS IN\n",
        "        # ------------\n",
        "        batch_size, seq_len, hidden_size = keys.shape\n",
        "        q = self.Q(queries)\n",
        "        if len(queries.shape) == 2:\n",
        "          q = self.Q(queries.view(batch_size, 1, hidden_size))\n",
        "        k = self.K(keys)\n",
        "        v = self.V(values)\n",
        "        unnormalized_attention = torch.bmm(k, q.permute(0, 2, 1)) * self.scaling_factor\n",
        "        mask = torch.tril(torch.ones(unnormalized_attention.shape).cuda(), diagonal=-1)\n",
        "        attention_weights = self.softmax(unnormalized_attention.masked_fill_(mask.byte(), self.neg_inf))\n",
        "        context = torch.bmm(attention_weights.transpose(1, 2), v)\n",
        "        return context, attention_weights\n",
        "        \n",
        "        "
      ],
      "execution_count": 0,
      "outputs": []
    },
    {
      "metadata": {
        "id": "pemjZo2XWtRt",
        "colab_type": "text"
      },
      "cell_type": "markdown",
      "source": [
        "### Attention decoder"
      ]
    },
    {
      "metadata": {
        "id": "PfjF0Z-PWwPv",
        "colab_type": "code",
        "colab": {}
      },
      "cell_type": "code",
      "source": [
        "class RNNAttentionDecoder(nn.Module):\n",
        "    def __init__(self, vocab_size, hidden_size, attention_type='scaled_dot'):\n",
        "        super(RNNAttentionDecoder, self).__init__()\n",
        "        self.vocab_size = vocab_size\n",
        "        self.hidden_size = hidden_size\n",
        "\n",
        "        self.embedding = nn.Embedding(vocab_size, hidden_size)\n",
        "\n",
        "        self.rnn = MyGRUCell(input_size=hidden_size*2, hidden_size=hidden_size)\n",
        "        if attention_type == 'additive':\n",
        "          self.attention = AdditiveAttention(hidden_size=hidden_size)\n",
        "        elif attention_type == 'scaled_dot':\n",
        "          self.attention = ScaledDotAttention(hidden_size=hidden_size)\n",
        "#           self.attention = CausalScaledDotAttention(hidden_size=hidden_size)\n",
        "        \n",
        "        self.out = nn.Linear(hidden_size, vocab_size)\n",
        "\n",
        "        \n",
        "    def forward(self, inputs, annotations, hidden_init):\n",
        "        \"\"\"Forward pass of the attention-based decoder RNN.\n",
        "\n",
        "        Arguments:\n",
        "            inputs: Input token indexes across a batch for all the time step. (batch_size x decoder_seq_len)\n",
        "            annotations: The encoder hidden states for each step of the input.\n",
        "                         sequence. (batch_size x seq_len x hidden_size)\n",
        "            hidden_init: The final hidden states from the encoder, across a batch. (batch_size x hidden_size)\n",
        "\n",
        "        Returns:\n",
        "            output: Un-normalized scores for each token in the vocabulary, across a batch for all the decoding time steps. (batch_size x decoder_seq_len x vocab_size)\n",
        "            attentions: The stacked attention weights applied to the encoder annotations (batch_size x encoder_seq_len x decoder_seq_len)\n",
        "        \"\"\"\n",
        "        \n",
        "        batch_size, seq_len = inputs.size()\n",
        "        embed = self.embedding(inputs)  # batch_size x seq_len x hidden_size        \n",
        "\n",
        "        hiddens = []\n",
        "        attentions = []\n",
        "        h_prev = hidden_init\n",
        "        for i in range(seq_len):\n",
        "            # ------------\n",
        "            # FILL THIS IN\n",
        "            # ------------\n",
        "            embed_current = embed[:, i, :]\n",
        "            context, attention_weights = self.attention.forward(h_prev, annotations, annotations)\n",
        "            embed_and_context = torch.cat((embed_current, torch.squeeze(context, 1)), dim=1)\n",
        "            h_prev = self.rnn.forward(embed_and_context, h_prev)\n",
        "            \n",
        "            hiddens.append(h_prev)\n",
        "            attentions.append(attention_weights)\n",
        "\n",
        "        hiddens = torch.stack(hiddens, dim=1) # batch_size x seq_len x hidden_size\n",
        "        attentions = torch.cat(attentions, dim=2) # batch_size x seq_len x seq_len\n",
        "        \n",
        "        output = self.out(hiddens)  # batch_size x seq_len x vocab_size\n",
        "        return output, attentions\n",
        "        "
      ],
      "execution_count": 0,
      "outputs": []
    },
    {
      "metadata": {
        "id": "N8JpcwTRW5cw",
        "colab_type": "text"
      },
      "cell_type": "markdown",
      "source": [
        "### Transformer decoder"
      ]
    },
    {
      "metadata": {
        "id": "V5vJPku1W7sz",
        "colab_type": "code",
        "colab": {}
      },
      "cell_type": "code",
      "source": [
        "class TransformerDecoder(nn.Module):\n",
        "    def __init__(self, vocab_size, hidden_size, num_layers):\n",
        "        super(TransformerDecoder, self).__init__()\n",
        "        self.vocab_size = vocab_size\n",
        "        self.hidden_size = hidden_size\n",
        "\n",
        "        self.embedding = nn.Embedding(vocab_size, hidden_size)        \n",
        "        self.num_layers = num_layers\n",
        "        \n",
        "        self.self_attentions = nn.ModuleList([CausalScaledDotAttention(\n",
        "                                    hidden_size=hidden_size, \n",
        "                                 ) for i in range(self.num_layers)])\n",
        "#         self.self_attentions = nn.ModuleList([ScaledDotAttention(\n",
        "#                                     hidden_size=hidden_size, \n",
        "#                                  ) for i in range(self.num_layers)])\n",
        "        self.encoder_attentions = nn.ModuleList([ScaledDotAttention(\n",
        "                                    hidden_size=hidden_size, \n",
        "                                 ) for i in range(self.num_layers)])\n",
        "        self.attention_mlps = nn.ModuleList([nn.Sequential(\n",
        "                                    nn.Linear(hidden_size, hidden_size),\n",
        "                                    nn.ReLU(),\n",
        "                                 ) for i in range(self.num_layers)])\n",
        "        self.out = nn.Linear(hidden_size, vocab_size)\n",
        "\n",
        "        \n",
        "    def forward(self, inputs, annotations, hidden_init):\n",
        "        \"\"\"Forward pass of the attention-based decoder RNN.\n",
        "\n",
        "        Arguments:\n",
        "            inputs: Input token indexes across a batch for all the time step. (batch_size x decoder_seq_len)\n",
        "            annotations: The encoder hidden states for each step of the input.\n",
        "                         sequence. (batch_size x seq_len x hidden_size)\n",
        "            hidden_init: Not used in the transformer decoder\n",
        "        Returns:\n",
        "            output: Un-normalized scores for each token in the vocabulary, across a batch for all the decoding time steps. (batch_size x decoder_seq_len x vocab_size)\n",
        "            attentions: The stacked attention weights applied to the encoder annotations (batch_size x encoder_seq_len x decoder_seq_len)\n",
        "        \"\"\"\n",
        "        \n",
        "        batch_size, seq_len = inputs.size()\n",
        "        embed = self.embedding(inputs)  # batch_size x seq_len x hidden_size\n",
        "\n",
        "        encoder_attention_weights_list = []\n",
        "        self_attention_weights_list = []\n",
        "        contexts = embed\n",
        "        for i in range(self.num_layers):\n",
        "          # ------------\n",
        "          # FILL THIS IN\n",
        "          # ------------\n",
        "          new_contexts, self_attention_weights = self.self_attentions[i].forward(contexts, contexts, contexts)\n",
        "          residual_contexts = contexts + new_contexts\n",
        "          new_contexts, encoder_attention_weights = self.encoder_attentions[i].forward(residual_contexts, annotations, annotations)\n",
        "          residual_contexts = residual_contexts + new_contexts\n",
        "          new_contexts = self.attention_mlps[i].forward(residual_contexts)\n",
        "          contexts = residual_contexts + new_contexts\n",
        "\n",
        "          \n",
        "          encoder_attention_weights_list.append(encoder_attention_weights)\n",
        "          self_attention_weights_list.append(self_attention_weights)\n",
        "          \n",
        "        output = self.out(contexts)\n",
        "        encoder_attention_weights = torch.stack(encoder_attention_weights_list)\n",
        "        self_attention_weights = torch.stack(self_attention_weights_list)\n",
        "        \n",
        "        return output, (encoder_attention_weights, self_attention_weights)"
      ],
      "execution_count": 0,
      "outputs": []
    },
    {
      "metadata": {
        "id": "XuNFd6LNo0-o",
        "colab_type": "text"
      },
      "cell_type": "markdown",
      "source": [
        "# Training\n"
      ]
    },
    {
      "metadata": {
        "id": "kiUwiOITHTW4",
        "colab_type": "text"
      },
      "cell_type": "markdown",
      "source": [
        "## Download dataset"
      ]
    },
    {
      "metadata": {
        "id": "xwcFjsEpHRbI",
        "colab_type": "code",
        "outputId": "25554909-2b45-4278-90d5-8553fcc9e46e",
        "colab": {
          "base_uri": "https://localhost:8080/",
          "height": 51
        }
      },
      "cell_type": "code",
      "source": [
        "######################################################################\n",
        "# Download Translation datasets\n",
        "######################################################################\n",
        "data_fpath = get_file(fname='pig_latin_data.txt', \n",
        "                         origin='http://www.cs.toronto.edu/~jba/pig_latin_data.txt', \n",
        "                         untar=False)\n",
        "import time"
      ],
      "execution_count": 10,
      "outputs": [
        {
          "output_type": "stream",
          "text": [
            "data/pig_latin_data.txt\n",
            "('Downloading data from', 'http://www.cs.toronto.edu/~jba/pig_latin_data.txt')\n"
          ],
          "name": "stdout"
        }
      ]
    },
    {
      "metadata": {
        "id": "hmQmyJDSRFKR",
        "colab_type": "text"
      },
      "cell_type": "markdown",
      "source": [
        "## RNN decoder"
      ]
    },
    {
      "metadata": {
        "id": "0LKaRF1jwhH7",
        "colab_type": "code",
        "outputId": "a4800ae3-1a32-433a-c024-7af2f881b584",
        "colab": {
          "base_uri": "https://localhost:8080/",
          "height": 2298
        }
      },
      "cell_type": "code",
      "source": [
        "start_time = time.time()\n",
        "TEST_SENTENCE = 'the air conditioning is working'\n",
        "\n",
        "args = AttrDict()\n",
        "args_dict = {\n",
        "              'cuda':True, \n",
        "              'nepochs':100, \n",
        "              'checkpoint_dir':\"checkpoints\", \n",
        "              'learning_rate':0.005, \n",
        "              'lr_decay':0.99,\n",
        "              'batch_size':64, \n",
        "              'hidden_size':20, \n",
        "              'decoder_type': 'rnn', # options: rnn / rnn_attention / transformer\n",
        "              'attention_type': '',  # options: additive / scaled_dot\n",
        "}\n",
        "args.update(args_dict)\n",
        "\n",
        "print_opts(args)\n",
        "rnn_encoder, rnn_decoder = train(args)\n",
        "\n",
        "translated = translate_sentence(TEST_SENTENCE, rnn_encoder, rnn_decoder, None, args)\n",
        "print(\"source:\\t\\t{} \\ntranslated:\\t{}\".format(TEST_SENTENCE, translated))\n",
        "print(\"time takes: {}s\".format(time.time() - start_time))"
      ],
      "execution_count": 0,
      "outputs": [
        {
          "output_type": "stream",
          "text": [
            "================================================================================\n",
            "                                      Opts                                      \n",
            "--------------------------------------------------------------------------------\n",
            "                            hidden_size: 20                                     \n",
            "                          learning_rate: 0.005                                  \n",
            "                             batch_size: 64                                     \n",
            "                                nepochs: 100                                    \n",
            "                                   cuda: 1                                      \n",
            "                         checkpoint_dir: checkpoints                            \n",
            "                           decoder_type: rnn                                    \n",
            "                               lr_decay: 0.99                                   \n",
            "                         attention_type:                                        \n",
            "================================================================================\n",
            "================================================================================\n",
            "                                   Data Stats                                   \n",
            "--------------------------------------------------------------------------------\n",
            "('payment', 'aymentpay')\n",
            "('ordination', 'ordinationway')\n",
            "('amends', 'amendsway')\n",
            "('principally', 'incipallypray')\n",
            "('anybody', 'anybodyway')\n",
            "Num unique word pairs: 6387\n",
            "Vocabulary: ['EOS', '-', 'SOS', 'a', 'c', 'b', 'e', 'd', 'g', 'f', 'i', 'h', 'k', 'j', 'm', 'l', 'o', 'n', 'q', 'p', 's', 'r', 'u', 't', 'w', 'v', 'y', 'x', 'z']\n",
            "Vocab size: 29\n",
            "================================================================================\n",
            "Moved models to GPU!\n"
          ],
          "name": "stdout"
        },
        {
          "output_type": "stream",
          "text": [
            "/usr/local/lib/python2.7/dist-packages/torch/serialization.py:251: UserWarning: Couldn't retrieve source code for container of type GRUEncoder. It won't be checked for correctness upon loading.\n",
            "  \"type \" + obj.__name__ + \". It won't be checked \"\n",
            "/usr/local/lib/python2.7/dist-packages/torch/serialization.py:251: UserWarning: Couldn't retrieve source code for container of type RNNDecoder. It won't be checked for correctness upon loading.\n",
            "  \"type \" + obj.__name__ + \". It won't be checked \"\n"
          ],
          "name": "stderr"
        },
        {
          "output_type": "stream",
          "text": [
            "Epoch:   0 | Train loss: 2.381 | Val loss: 2.007 | Gen: esesay anseday eseray esesay eseray\n",
            "Epoch:   1 | Train loss: 1.934 | Val loss: 1.841 | Gen: esessay ansay onsessay esessay onsessay\n",
            "Epoch:   2 | Train loss: 1.767 | Val loss: 1.725 | Gen: estay artay onsestay ingsay onsestay\n",
            "Epoch:   3 | Train loss: 1.650 | Val loss: 1.646 | Gen: estay artay onseray ingray ontertay\n",
            "Epoch:   4 | Train loss: 1.570 | Val loss: 1.591 | Gen: estay ay-ingway ontingestay ingray ortertay\n",
            "Epoch:   5 | Train loss: 1.499 | Val loss: 1.543 | Gen: estay ay-ingway onnenteray instay oroustay\n",
            "Epoch:   6 | Train loss: 1.442 | Val loss: 1.513 | Gen: estay ay- ontinenteray istay outhedway\n",
            "Epoch:   7 | Train loss: 1.387 | Val loss: 1.479 | Gen: estay aringway ontinentedway istay oustedway\n",
            "Epoch:   8 | Train loss: 1.350 | Val loss: 1.462 | Gen: ersay aringway oninteray istay outheray\n",
            "Epoch:   9 | Train loss: 1.312 | Val loss: 1.423 | Gen: estay aringway oninteray istay outhertay\n",
            "Epoch:  10 | Train loss: 1.274 | Val loss: 1.414 | Gen: estay aringway onintingway istsay ourthtay\n",
            "Epoch:  11 | Train loss: 1.251 | Val loss: 1.377 | Gen: erway ay-ingway onintingway istsay oulyday\n",
            "Epoch:  12 | Train loss: 1.228 | Val loss: 1.356 | Gen: erway aringway onintingway istsay ourthtay\n",
            "Epoch:  13 | Train loss: 1.209 | Val loss: 1.390 | Gen: eghay airtay onintingway istsay oullyway\n",
            "Epoch:  14 | Train loss: 1.189 | Val loss: 1.326 | Gen: eghay aithay onintay-estansedway istsay ourthtay\n",
            "Epoch:  15 | Train loss: 1.167 | Val loss: 1.335 | Gen: eghay airtay onininteray isstay ordourlay\n",
            "Epoch:  16 | Train loss: 1.145 | Val loss: 1.304 | Gen: eghay airtay oninteray-ansedstay istsay ordurlay\n",
            "Epoch:  17 | Train loss: 1.134 | Val loss: 1.296 | Gen: eghay airtay onintingray isstay ordurlay\n",
            "Epoch:  18 | Train loss: 1.114 | Val loss: 1.311 | Gen: eghtnay airtay onininteray isstay ollurlay\n",
            "Epoch:  19 | Train loss: 1.089 | Val loss: 1.271 | Gen: eghay airtay onintingstay isstay ourthtay\n",
            "Epoch:  20 | Train loss: 1.083 | Val loss: 1.260 | Gen: eghay airtay onintingray isscay ourthedway\n",
            "Epoch:  21 | Train loss: 1.072 | Val loss: 1.280 | Gen: eghtay airtay onintingssay isscay ourtionshay\n",
            "Epoch:  22 | Train loss: 1.067 | Val loss: 1.264 | Gen: eghay airtay onintingray iscay ourthedway\n",
            "Epoch:  23 | Train loss: 1.051 | Val loss: 1.271 | Gen: ethay airtay oninisingstay isscay ourtlyway\n",
            "Epoch:  24 | Train loss: 1.038 | Val loss: 1.236 | Gen: eghtay airtay onintingstay isscay ourtlyway\n",
            "Epoch:  25 | Train loss: 1.028 | Val loss: 1.265 | Gen: ethtay airtay oninintedstray isscay ourtlyway\n",
            "Epoch:  26 | Train loss: 1.030 | Val loss: 1.248 | Gen: eghay airtay onintingsay isscay ouldway\n",
            "Epoch:  27 | Train loss: 1.017 | Val loss: 1.221 | Gen: ethay airtay onintingsay iscay ourtlyway\n",
            "Epoch:  28 | Train loss: 1.005 | Val loss: 1.229 | Gen: ethay airtay onintingsay isscay ouldway\n",
            "Epoch:  29 | Train loss: 0.998 | Val loss: 1.205 | Gen: ethay airtay onintingsay issay ouldway\n",
            "Epoch:  30 | Train loss: 1.004 | Val loss: 1.219 | Gen: eghay airtay onintingsay isscay ouldway\n",
            "Epoch:  31 | Train loss: 0.981 | Val loss: 1.217 | Gen: ethay airtay onintingsay isscay ourtlyway\n",
            "Epoch:  32 | Train loss: 0.967 | Val loss: 1.198 | Gen: ethay airtay onintingway isscay ouldway\n",
            "Epoch:  33 | Train loss: 0.976 | Val loss: 1.195 | Gen: eghay airlay onintingway issay ouldway\n",
            "Epoch:  34 | Train loss: 0.959 | Val loss: 1.197 | Gen: ethay airtay onintingsay isstay ouldway\n",
            "Epoch:  35 | Train loss: 0.944 | Val loss: 1.180 | Gen: ethay airlay onintingway issay ouldway\n",
            "Epoch:  36 | Train loss: 0.948 | Val loss: 1.205 | Gen: eghay airway onintingway issay ouldway\n",
            "Epoch:  37 | Train loss: 0.936 | Val loss: 1.176 | Gen: ethay airtay onintingway iscay ouldway\n",
            "Epoch:  38 | Train loss: 0.941 | Val loss: 1.171 | Gen: ethay airlay onintingway issay ouldway\n",
            "Epoch:  39 | Train loss: 0.918 | Val loss: 1.168 | Gen: erhay airway onintingway issay ouldway\n",
            "Epoch:  40 | Train loss: 0.911 | Val loss: 1.165 | Gen: erhay airway onintingway issay ouldway\n",
            "Epoch:  41 | Train loss: 0.924 | Val loss: 1.172 | Gen: erhay airway onintingway issay ourday\n",
            "Epoch:  42 | Train loss: 0.912 | Val loss: 1.179 | Gen: erhay airway onintingway issay ouldway\n",
            "Epoch:  43 | Train loss: 0.901 | Val loss: 1.138 | Gen: erhay airway onintingway issay ouldway\n",
            "Epoch:  44 | Train loss: 0.948 | Val loss: 1.180 | Gen: erhay airway onsintay-establingwa iscay ouldway\n",
            "Epoch:  45 | Train loss: 0.906 | Val loss: 1.158 | Gen: erhay airway onintingway issay ouldway\n",
            "Epoch:  46 | Train loss: 0.889 | Val loss: 1.140 | Gen: erhay airway onintingway iscay ouldway\n",
            "Epoch:  47 | Train loss: 0.869 | Val loss: 1.132 | Gen: erhay airway onintingway issay ouldway\n",
            "Epoch:  48 | Train loss: 0.859 | Val loss: 1.132 | Gen: erhay airway onintingway iscay ouldway\n",
            "Epoch:  49 | Train loss: 0.860 | Val loss: 1.139 | Gen: erhay airway onintingway iscay ouldway\n",
            "Epoch:  50 | Train loss: 0.864 | Val loss: 1.142 | Gen: erhay airway onintingway iscay ouldway\n",
            "Epoch:  51 | Train loss: 0.896 | Val loss: 1.154 | Gen: erhay airway onintingway iscay oullay\n",
            "Epoch:  52 | Train loss: 0.861 | Val loss: 1.112 | Gen: erhay airway onintingway iscay ouldway\n",
            "Epoch:  53 | Train loss: 0.844 | Val loss: 1.104 | Gen: erhay airway onintingway iscay ouldway\n",
            "Epoch:  54 | Train loss: 0.839 | Val loss: 1.111 | Gen: erhay airway onintingway iscay oullay\n",
            "Epoch:  55 | Train loss: 0.830 | Val loss: 1.099 | Gen: erhay airway onintionday iscay orudlypay\n",
            "Epoch:  56 | Train loss: 0.825 | Val loss: 1.099 | Gen: erhay airway onintingway iscay ordinghay\n",
            "Epoch:  57 | Train loss: 0.829 | Val loss: 1.103 | Gen: erhay airway onintingway iscay orudlypay\n",
            "Epoch:  58 | Train loss: 0.819 | Val loss: 1.094 | Gen: erhay airway onintingway iscay orudlay\n",
            "Epoch:  59 | Train loss: 0.828 | Val loss: 1.115 | Gen: erhay airway onintionecray iscay oulday\n",
            "Epoch:  60 | Train loss: 0.848 | Val loss: 1.115 | Gen: erhay airway onintingsay istway oullycay\n",
            "Epoch:  61 | Train loss: 0.816 | Val loss: 1.107 | Gen: erhay airway ondintingway iscay ordyway\n",
            "Epoch:  62 | Train loss: 0.813 | Val loss: 1.087 | Gen: erhay airway onsintingway iscay ordinghay\n",
            "Epoch:  63 | Train loss: 0.803 | Val loss: 1.098 | Gen: erhay airway onintionecray iscay orudlypay\n",
            "Epoch:  64 | Train loss: 0.798 | Val loss: 1.085 | Gen: erhay airway onintingway iscay ordlyway\n",
            "Epoch:  65 | Train loss: 0.788 | Val loss: 1.080 | Gen: erhay airway onsintingway iscay ordinghay\n",
            "Epoch:  66 | Train loss: 0.780 | Val loss: 1.085 | Gen: erhay airway onsintay-ingsessway iscay ordlyway\n",
            "Epoch:  67 | Train loss: 0.784 | Val loss: 1.077 | Gen: erhay airway onintionecay iscay ordlyway\n",
            "Epoch:  68 | Train loss: 0.771 | Val loss: 1.078 | Gen: erhay airway onsintingway iscay ordlyway\n",
            "Epoch:  69 | Train loss: 0.783 | Val loss: 1.084 | Gen: erhay airway onintionecray iscay ordlyway\n",
            "Epoch:  70 | Train loss: 0.775 | Val loss: 1.077 | Gen: erhay airway onsintingway iscay orudlyway\n",
            "Epoch:  71 | Train loss: 0.762 | Val loss: 1.076 | Gen: erhay airway onsintingway iscay ordlyway\n",
            "Epoch:  72 | Train loss: 0.756 | Val loss: 1.080 | Gen: erhay airway onsintingway iscay orudgay\n",
            "Epoch:  73 | Train loss: 0.758 | Val loss: 1.075 | Gen: ehay airway onsintingway istay ordlyway\n",
            "Epoch:  74 | Train loss: 0.772 | Val loss: 1.076 | Gen: ehay airway onsintay-inway-awlay iscay ordlyway\n",
            "Epoch:  75 | Train loss: 0.758 | Val loss: 1.073 | Gen: ehay airway onsintingway iscay orudlay\n",
            "Epoch:  76 | Train loss: 0.745 | Val loss: 1.067 | Gen: ehay airway onsintingway istay ordlyway\n",
            "Epoch:  77 | Train loss: 0.752 | Val loss: 1.073 | Gen: ehay airway onsintingway iscay orudlay\n",
            "Epoch:  78 | Train loss: 0.739 | Val loss: 1.056 | Gen: ehay airway onsintingway istay orudlay\n",
            "Epoch:  79 | Train loss: 0.735 | Val loss: 1.065 | Gen: ehay airway onsintingway istay orudlyway\n",
            "Epoch:  80 | Train loss: 0.752 | Val loss: 1.061 | Gen: ehtay airway onsintingway istay ordlyway\n",
            "Epoch:  81 | Train loss: 0.739 | Val loss: 1.058 | Gen: ehay airway onintionecay istay orudeday\n",
            "Epoch:  82 | Train loss: 0.740 | Val loss: 1.062 | Gen: ehay airway onsintingway istay orudgay\n",
            "Epoch:  83 | Train loss: 0.727 | Val loss: 1.059 | Gen: ethay airway onsintingway istay orungray\n",
            "Epoch:  84 | Train loss: 0.723 | Val loss: 1.064 | Gen: ehay airway onsintingway istay orudlyway\n",
            "Epoch:  85 | Train loss: 0.716 | Val loss: 1.064 | Gen: ehay airway onsintingway istay orudeday\n",
            "Epoch:  86 | Train loss: 0.711 | Val loss: 1.052 | Gen: ethay airway onsintialway istay orudlay\n",
            "Epoch:  87 | Train loss: 0.713 | Val loss: 1.053 | Gen: ehay airway onsintinglay istay orudgay\n",
            "Epoch:  88 | Train loss: 0.735 | Val loss: 1.042 | Gen: ehay airway onisingsay istay orudeday\n",
            "Epoch:  89 | Train loss: 0.714 | Val loss: 1.067 | Gen: ehay airway onsintiay-assway istay orudlyway\n",
            "Epoch:  90 | Train loss: 0.701 | Val loss: 1.046 | Gen: ehay airway onsintiay-essay-orse istay orudlyway\n",
            "Epoch:  91 | Train loss: 0.702 | Val loss: 1.056 | Gen: ehay airway onsintiay-asedtay istay orudeday\n",
            "Epoch:  92 | Train loss: 0.720 | Val loss: 1.059 | Gen: ethay airway onsintingway istay orungray\n",
            "Epoch:  93 | Train loss: 0.710 | Val loss: 1.043 | Gen: ehay airway onsintiayeay istay orudeday\n",
            "Epoch:  94 | Train loss: 0.695 | Val loss: 1.041 | Gen: ethay airway onsintiay-essay-otep istay orudeday\n",
            "Epoch:  95 | Train loss: 0.690 | Val loss: 1.041 | Gen: ethay airway onsintiay-asslay istay orudeday\n",
            "Epoch:  96 | Train loss: 0.688 | Val loss: 1.034 | Gen: ethay airway onsintiay-essay-otep istay orungray\n",
            "Epoch:  97 | Train loss: 0.684 | Val loss: 1.041 | Gen: ethay airway onsintiayeay istay orungray\n",
            "Epoch:  98 | Train loss: 0.695 | Val loss: 1.057 | Gen: ethay airway onsintiay-asstway istay orudeday\n",
            "Epoch:  99 | Train loss: 0.750 | Val loss: 1.097 | Gen: ehmay airway onintionceday istay ordlypay\n",
            "source:\t\tthe air conditioning is working \n",
            "translated:\tehmay airway onintionceday istay ordlypay\n",
            "time takes: 216.538352013s\n"
          ],
          "name": "stdout"
        }
      ]
    },
    {
      "metadata": {
        "id": "p2kPGj5DFv7a",
        "colab_type": "code",
        "outputId": "c4be503a-3a8d-4fc0-a2d7-97363ea24a4b",
        "colab": {
          "base_uri": "https://localhost:8080/",
          "height": 221
        }
      },
      "cell_type": "code",
      "source": [
        "TEST_SENTENCEs = ['the is are above below have', 'name car cars hear hears people toleration insensibility', \\\n",
        "                  'move work works working worked bring brought', 'cherrful hysterical countless']\n",
        "for t in TEST_SENTENCEs:\n",
        "  translated = translate_sentence(t, rnn_encoder, rnn_decoder, None, args)\n",
        "  print(\"source:\\t\\t{} \\ntranslated:\\t{}\\n\".format(t, translated))"
      ],
      "execution_count": 0,
      "outputs": [
        {
          "output_type": "stream",
          "text": [
            "source:\t\tthe is are above below have \n",
            "translated:\tehmay istay areway acokeway eloudlay avehay\n",
            "\n",
            "source:\t\tname car cars hear hears people toleration insensibility \n",
            "translated:\tamentay array arsray earhay earray eaplencay orelingway insinteringway\n",
            "\n",
            "source:\t\tmove work works working worked bring brought \n",
            "translated:\tovedway orkway orchtmay ordlypay orkedway ingdray oughtray\n",
            "\n",
            "source:\t\tcherrful hysterical countless \n",
            "translated:\terurcedway ytertichedway ouncestway\n",
            "\n"
          ],
          "name": "stdout"
        }
      ]
    },
    {
      "metadata": {
        "id": "7cP7nl5NRJbu",
        "colab_type": "text"
      },
      "cell_type": "markdown",
      "source": [
        "## RNN attention decoder"
      ]
    },
    {
      "metadata": {
        "id": "2CUIWCaniilu",
        "colab_type": "text"
      },
      "cell_type": "markdown",
      "source": [
        "### Additive method\n"
      ]
    },
    {
      "metadata": {
        "id": "nKlyfbuPDXDR",
        "colab_type": "code",
        "outputId": "43d59e1e-a061-4807-867e-13d314687b4a",
        "colab": {
          "base_uri": "https://localhost:8080/",
          "height": 2332
        }
      },
      "cell_type": "code",
      "source": [
        "start_time = time.time()\n",
        "TEST_SENTENCE = 'the air conditioning is working'\n",
        "\n",
        "args = AttrDict()\n",
        "args_dict = {\n",
        "              'cuda':True, \n",
        "              'nepochs':100, \n",
        "              'checkpoint_dir':\"checkpoints\", \n",
        "              'learning_rate':0.005, \n",
        "              'lr_decay':0.99,\n",
        "              'batch_size':64, \n",
        "              'hidden_size':20, \n",
        "              'decoder_type': 'rnn_attention', # options: rnn / rnn_attention / transformer\n",
        "              'attention_type': 'additive',  # options: additive / scaled_dot\n",
        "}\n",
        "args.update(args_dict)\n",
        "\n",
        "print_opts(args)\n",
        "rnn_attn_encoder, rnn_attn_decoder = train(args)\n",
        "\n",
        "translated = translate_sentence(TEST_SENTENCE, rnn_attn_encoder, rnn_attn_decoder, None, args)\n",
        "print(\"source:\\t\\t{} \\ntranslated:\\t{}\".format(TEST_SENTENCE, translated))\n",
        "print(\"time takes: {}s\".format(time.time() - start_time))"
      ],
      "execution_count": 0,
      "outputs": [
        {
          "output_type": "stream",
          "text": [
            "================================================================================\n",
            "                                      Opts                                      \n",
            "--------------------------------------------------------------------------------\n",
            "                            hidden_size: 20                                     \n",
            "                          learning_rate: 0.005                                  \n",
            "                             batch_size: 64                                     \n",
            "                                nepochs: 100                                    \n",
            "                                   cuda: 1                                      \n",
            "                         checkpoint_dir: checkpoints                            \n",
            "                           decoder_type: rnn_attention                          \n",
            "                               lr_decay: 0.99                                   \n",
            "                         attention_type: additive                               \n",
            "================================================================================\n",
            "================================================================================\n",
            "                                   Data Stats                                   \n",
            "--------------------------------------------------------------------------------\n",
            "('payment', 'aymentpay')\n",
            "('ordination', 'ordinationway')\n",
            "('amends', 'amendsway')\n",
            "('principally', 'incipallypray')\n",
            "('anybody', 'anybodyway')\n",
            "Num unique word pairs: 6387\n",
            "Vocabulary: ['EOS', '-', 'SOS', 'a', 'c', 'b', 'e', 'd', 'g', 'f', 'i', 'h', 'k', 'j', 'm', 'l', 'o', 'n', 'q', 'p', 's', 'r', 'u', 't', 'w', 'v', 'y', 'x', 'z']\n",
            "Vocab size: 29\n",
            "================================================================================\n",
            "Moved models to GPU!\n"
          ],
          "name": "stdout"
        },
        {
          "output_type": "stream",
          "text": [
            "/usr/local/lib/python2.7/dist-packages/torch/serialization.py:251: UserWarning: Couldn't retrieve source code for container of type RNNAttentionDecoder. It won't be checked for correctness upon loading.\n",
            "  \"type \" + obj.__name__ + \". It won't be checked \"\n",
            "/usr/local/lib/python2.7/dist-packages/torch/serialization.py:251: UserWarning: Couldn't retrieve source code for container of type MyGRUCell. It won't be checked for correctness upon loading.\n",
            "  \"type \" + obj.__name__ + \". It won't be checked \"\n",
            "/usr/local/lib/python2.7/dist-packages/torch/serialization.py:251: UserWarning: Couldn't retrieve source code for container of type AdditiveAttention. It won't be checked for correctness upon loading.\n",
            "  \"type \" + obj.__name__ + \". It won't be checked \"\n"
          ],
          "name": "stderr"
        },
        {
          "output_type": "stream",
          "text": [
            "Epoch:   0 | Train loss: 2.381 | Val loss: 1.974 | Gen: eneray ay enenteray ay onteray\n",
            "Epoch:   1 | Train loss: 1.867 | Val loss: 1.774 | Gen: ersay ay ousteray orssay ousthedsay\n",
            "Epoch:   2 | Train loss: 1.682 | Val loss: 1.641 | Gen: estay ayray ounginghay inssay ounghoodgay\n",
            "Epoch:   3 | Train loss: 1.565 | Val loss: 1.559 | Gen: estay ayray oongestay insay oungsay\n",
            "Epoch:   4 | Train loss: 1.455 | Val loss: 1.465 | Gen: estay ay-array oongestay-ongay istay oungsay\n",
            "Epoch:   5 | Train loss: 1.357 | Val loss: 1.365 | Gen: ectay ayray ongingingway issay ortingsay\n",
            "Epoch:   6 | Train loss: 1.232 | Val loss: 1.249 | Gen: ethay ay-ray-iray ongeray-ingeay issay orturay\n",
            "Epoch:   7 | Train loss: 1.080 | Val loss: 1.074 | Gen: ethay ayray ondiongsay issysay ortingray\n",
            "Epoch:   8 | Train loss: 0.959 | Val loss: 0.944 | Gen: etthay ariay ondiontiongay issay ortingsway\n",
            "Epoch:   9 | Train loss: 0.829 | Val loss: 0.830 | Gen: etay airay ondinionglay issay ortingsway\n",
            "Epoch:  10 | Train loss: 0.713 | Val loss: 0.770 | Gen: etthay airway ondingeng isway orkingway\n",
            "Epoch:  11 | Train loss: 0.642 | Val loss: 0.650 | Gen: etthay airway onditiongcay isway orkingway\n",
            "Epoch:  12 | Train loss: 0.579 | Val loss: 0.687 | Gen: etthay airway onditiongingway isway orkingway\n",
            "Epoch:  13 | Train loss: 0.503 | Val loss: 0.539 | Gen: etthay airway onditiongcay isway orkingway\n",
            "Epoch:  14 | Train loss: 0.516 | Val loss: 0.527 | Gen: etthay airway onditingway issyway orkingway\n",
            "Epoch:  15 | Train loss: 0.408 | Val loss: 0.467 | Gen: etthay airway onditingingway issway orkingway\n",
            "Epoch:  16 | Train loss: 0.378 | Val loss: 0.457 | Gen: etthay airway onditingway issway orkingway\n",
            "Epoch:  17 | Train loss: 0.359 | Val loss: 0.453 | Gen: etthay airway onditinningcay isway orkingway\n",
            "Epoch:  18 | Train loss: 0.331 | Val loss: 0.439 | Gen: etay airway onditingingway issiway orkingway\n",
            "Epoch:  19 | Train loss: 0.301 | Val loss: 0.424 | Gen: etay airway onditinningcay isway orkingway\n",
            "Epoch:  20 | Train loss: 0.277 | Val loss: 0.403 | Gen: etthay airway onditingingway issway orkingway\n",
            "Epoch:  21 | Train loss: 0.258 | Val loss: 0.388 | Gen: ethay airway onditingingway isway orkingway\n",
            "Epoch:  22 | Train loss: 0.261 | Val loss: 0.374 | Gen: etthay airway onditingingway isway orkingway\n",
            "Epoch:  23 | Train loss: 0.237 | Val loss: 0.350 | Gen: etay airway onditiningcay isway orkingway\n",
            "Epoch:  24 | Train loss: 0.178 | Val loss: 0.268 | Gen: ethay airway onditioncay isway orkingway\n",
            "Epoch:  25 | Train loss: 0.150 | Val loss: 0.253 | Gen: ethay airway onditiongingcay isway orkingway\n",
            "Epoch:  26 | Train loss: 0.187 | Val loss: 0.260 | Gen: ethay airway onditiongcay isway orkingway\n",
            "Epoch:  27 | Train loss: 0.145 | Val loss: 0.266 | Gen: ethay airway onditiongway isway orkingway\n",
            "Epoch:  28 | Train loss: 0.121 | Val loss: 0.214 | Gen: ethay airway onditiongway isway orkingway\n",
            "Epoch:  29 | Train loss: 0.105 | Val loss: 0.209 | Gen: ethay airway onditioningcay isway orkingway\n",
            "Epoch:  30 | Train loss: 0.108 | Val loss: 0.291 | Gen: ethay airway onditioncay isway orkingway\n",
            "Epoch:  31 | Train loss: 0.185 | Val loss: 0.211 | Gen: ethay airway onditioncay isway orkingway\n",
            "Epoch:  32 | Train loss: 0.134 | Val loss: 0.239 | Gen: ethay airway onditiongway isway orkingway\n",
            "Epoch:  33 | Train loss: 0.106 | Val loss: 0.175 | Gen: ethay airway onditioningcay isway orkingway\n",
            "Epoch:  34 | Train loss: 0.075 | Val loss: 0.151 | Gen: ethay airway onditioningcay isway orkingway\n",
            "Epoch:  35 | Train loss: 0.105 | Val loss: 0.197 | Gen: ethay airway onditioningcay isway orkingway\n",
            "Epoch:  36 | Train loss: 0.113 | Val loss: 0.176 | Gen: ethay airway onditioncydnay isway orkingway\n",
            "Epoch:  37 | Train loss: 0.223 | Val loss: 0.319 | Gen: ethay airway onditioningcay isway orkingway\n",
            "Epoch:  38 | Train loss: 0.125 | Val loss: 0.188 | Gen: ethay airway onditioningcay isway orkingway\n",
            "Epoch:  39 | Train loss: 0.073 | Val loss: 0.128 | Gen: ethay airway onditioningcay isway orkingway\n",
            "Epoch:  40 | Train loss: 0.053 | Val loss: 0.126 | Gen: ethay airway onditioningcay isway orkingway\n",
            "Epoch:  41 | Train loss: 0.044 | Val loss: 0.110 | Gen: ethay airway onditioningcay isway orkingway\n",
            "Epoch:  42 | Train loss: 0.050 | Val loss: 0.244 | Gen: ethay airway onditiongcay isway orkingway\n",
            "Epoch:  43 | Train loss: 0.093 | Val loss: 0.144 | Gen: ethay airway onditioningcay isway orkingway\n",
            "Epoch:  44 | Train loss: 0.041 | Val loss: 0.096 | Gen: ethay airway onditioningcay isway orkingway\n",
            "Epoch:  45 | Train loss: 0.030 | Val loss: 0.088 | Gen: ethay airway onditioningcay isway orkingway\n",
            "Epoch:  46 | Train loss: 0.024 | Val loss: 0.085 | Gen: ethay airway onditioningcay isway orkingway\n",
            "Epoch:  47 | Train loss: 0.021 | Val loss: 0.082 | Gen: ethay airway onditioningcay isway orkingway\n",
            "Epoch:  48 | Train loss: 0.019 | Val loss: 0.087 | Gen: ethay airway onditioningcay isway orkingway\n",
            "Epoch:  49 | Train loss: 0.017 | Val loss: 0.127 | Gen: ethay airway onditioningcay isway orkingway\n",
            "Epoch:  50 | Train loss: 0.018 | Val loss: 0.085 | Gen: ethay airway onditioningcay isway orkingway\n",
            "Epoch:  51 | Train loss: 0.021 | Val loss: 0.101 | Gen: ethay airway onditioningcay isway orkingway\n",
            "Epoch:  52 | Train loss: 0.182 | Val loss: 0.494 | Gen: ethay airway onditingcay isway orkingway\n",
            "Epoch:  53 | Train loss: 0.325 | Val loss: 0.408 | Gen: ethay airway onditiongcay isway orkingway\n",
            "Epoch:  54 | Train loss: 0.152 | Val loss: 0.158 | Gen: ethay airway onditioningcay isway orkingway\n",
            "Epoch:  55 | Train loss: 0.074 | Val loss: 0.140 | Gen: ethay airway onditioningcay isway orkingway\n",
            "Epoch:  56 | Train loss: 0.036 | Val loss: 0.108 | Gen: ethay airway onditioningcay isway orkingway\n",
            "Epoch:  57 | Train loss: 0.024 | Val loss: 0.096 | Gen: ethay airway onditioningcay isway orkingway\n",
            "Epoch:  58 | Train loss: 0.020 | Val loss: 0.092 | Gen: ethay airway onditioningcay isway orkingway\n",
            "Epoch:  59 | Train loss: 0.017 | Val loss: 0.090 | Gen: ethay airway onditioningcay isway orkingway\n",
            "Epoch:  60 | Train loss: 0.015 | Val loss: 0.090 | Gen: ethay airway onditioningcay isway orkingway\n",
            "Epoch:  61 | Train loss: 0.013 | Val loss: 0.090 | Gen: ethay airway onditioningcay isway orkingway\n",
            "Epoch:  62 | Train loss: 0.012 | Val loss: 0.089 | Gen: ethay airway onditioningcay isway orkingway\n",
            "Epoch:  63 | Train loss: 0.011 | Val loss: 0.089 | Gen: ethay airway onditioningcay isway orkingway\n",
            "Epoch:  64 | Train loss: 0.010 | Val loss: 0.086 | Gen: ethay airway onditioningcay isway orkingway\n",
            "Epoch:  65 | Train loss: 0.009 | Val loss: 0.088 | Gen: ethay airway onditioningcay isway orkingway\n",
            "Epoch:  66 | Train loss: 0.008 | Val loss: 0.088 | Gen: ethay airway onditioningcay isway orkingway\n",
            "Epoch:  67 | Train loss: 0.008 | Val loss: 0.086 | Gen: ethay airway onditioningcay isway orkingway\n",
            "Epoch:  68 | Train loss: 0.007 | Val loss: 0.086 | Gen: ethay airway onditioningcay isway orkingway\n",
            "Epoch:  69 | Train loss: 0.007 | Val loss: 0.085 | Gen: ethay airway onditioningcay isway orkingway\n",
            "Epoch:  70 | Train loss: 0.006 | Val loss: 0.085 | Gen: ethay airway onditioningcay isway orkingway\n",
            "Epoch:  71 | Train loss: 0.006 | Val loss: 0.086 | Gen: ethay airway onditioningcay isway orkingway\n",
            "Epoch:  72 | Train loss: 0.005 | Val loss: 0.085 | Gen: ethay airway onditioningcay isway orkingway\n",
            "Epoch:  73 | Train loss: 0.005 | Val loss: 0.095 | Gen: ethay airway onditioningcay isway orkingway\n",
            "Epoch:  74 | Train loss: 0.062 | Val loss: 0.517 | Gen: ethay airwray ondititiningcay isway orkingway\n",
            "Epoch:  75 | Train loss: 0.263 | Val loss: 0.163 | Gen: ethay airway onditioningcay isway orkingway\n",
            "Epoch:  76 | Train loss: 0.081 | Val loss: 0.143 | Gen: ethay airway onditioningcay isway orkingway\n",
            "Epoch:  77 | Train loss: 0.031 | Val loss: 0.094 | Gen: ethay airway onditioningcay isway orkingway\n",
            "Epoch:  78 | Train loss: 0.018 | Val loss: 0.081 | Gen: ethay airway onditioningcay isway orkingway\n",
            "Epoch:  79 | Train loss: 0.011 | Val loss: 0.068 | Gen: ethay airway onditioningcay isway orkingway\n",
            "Epoch:  80 | Train loss: 0.008 | Val loss: 0.067 | Gen: ethay airway onditioningcay isway orkingway\n",
            "Epoch:  81 | Train loss: 0.007 | Val loss: 0.067 | Gen: ethay airway onditioningcay isway orkingway\n",
            "Epoch:  82 | Train loss: 0.006 | Val loss: 0.066 | Gen: ethay airway onditioningcay isway orkingway\n",
            "Epoch:  83 | Train loss: 0.006 | Val loss: 0.066 | Gen: ethay airway onditioningcay isway orkingway\n",
            "Epoch:  84 | Train loss: 0.005 | Val loss: 0.066 | Gen: ethay airway onditioningcay isway orkingway\n",
            "Epoch:  85 | Train loss: 0.005 | Val loss: 0.065 | Gen: ethay airway onditioningcay isway orkingway\n",
            "Epoch:  86 | Train loss: 0.005 | Val loss: 0.065 | Gen: ethay airway onditioningcay isway orkingway\n",
            "Epoch:  87 | Train loss: 0.004 | Val loss: 0.065 | Gen: ethay airway onditioningcay isway orkingway\n",
            "Epoch:  88 | Train loss: 0.004 | Val loss: 0.064 | Gen: ethay airway onditioningcay isway orkingway\n",
            "Epoch:  89 | Train loss: 0.004 | Val loss: 0.063 | Gen: ethay airway onditioningcay isway orkingway\n",
            "Epoch:  90 | Train loss: 0.003 | Val loss: 0.063 | Gen: ethay airway onditioningcay isway orkingway\n",
            "Epoch:  91 | Train loss: 0.003 | Val loss: 0.063 | Gen: ethay airway onditioningcay isway orkingway\n",
            "Epoch:  92 | Train loss: 0.003 | Val loss: 0.062 | Gen: ethay airway onditioningcay isway orkingway\n",
            "Epoch:  93 | Train loss: 0.003 | Val loss: 0.062 | Gen: ethay airway onditioningcay isway orkingway\n",
            "Epoch:  94 | Train loss: 0.003 | Val loss: 0.062 | Gen: ethay airway onditioningcay isway orkingway\n",
            "Epoch:  95 | Train loss: 0.003 | Val loss: 0.063 | Gen: ethay airway onditioningcay isway orkingway\n",
            "Epoch:  96 | Train loss: 0.002 | Val loss: 0.063 | Gen: ethay airway onditioningcay isway orkingway\n",
            "Epoch:  97 | Train loss: 0.002 | Val loss: 0.063 | Gen: ethay airway onditioningcay isway orkingway\n",
            "Epoch:  98 | Train loss: 0.002 | Val loss: 0.064 | Gen: ethay airway onditioningcay isway orkingway\n",
            "Epoch:  99 | Train loss: 0.002 | Val loss: 0.064 | Gen: ethay airway onditioningcay isway orkingway\n",
            "source:\t\tthe air conditioning is working \n",
            "translated:\tethay airway onditioningcay isway orkingway\n",
            "time takes: 610.118476152s\n"
          ],
          "name": "stdout"
        }
      ]
    },
    {
      "metadata": {
        "id": "vE-hKCxhF3iR",
        "colab_type": "code",
        "outputId": "8c5f3425-da54-4a89-dfe1-02ce98ea6bb9",
        "colab": {
          "base_uri": "https://localhost:8080/",
          "height": 221
        }
      },
      "cell_type": "code",
      "source": [
        "TEST_SENTENCEs = ['the is are above below have', 'name car cars hear hears people toleration insensibility', \\\n",
        "                  'move work works working worked bring brought', 'cherrful hysterical countless']\n",
        "for t in TEST_SENTENCEs:\n",
        "  translated = translate_sentence(t, rnn_attn_encoder, rnn_attn_decoder, None, args)\n",
        "  print(\"source:\\t\\t{} \\ntranslated:\\t{}\\n\".format(t, translated))"
      ],
      "execution_count": 0,
      "outputs": [
        {
          "output_type": "stream",
          "text": [
            "source:\t\tthe is are above below have \n",
            "translated:\tethay isway areway aboveway elowbay avehay\n",
            "\n",
            "source:\t\tname car cars hear hears people toleration insensibility \n",
            "translated:\tamenay arcay arscay earhay earshay eoplepay olerationtay insensibilityway\n",
            "\n",
            "source:\t\tmove work works working worked bring brought \n",
            "translated:\tovemay orkway orksway orkingway orkedway ingbray oughtbray\n",
            "\n",
            "source:\t\tcherrful hysterical countless \n",
            "translated:\terrfulchay ystericalhay ountlesscay\n",
            "\n"
          ],
          "name": "stdout"
        }
      ]
    },
    {
      "metadata": {
        "id": "7v0lKtksEF5i",
        "colab_type": "code",
        "outputId": "e2d4d309-22bd-4345-be1a-6f4bdcd256c4",
        "colab": {
          "base_uri": "https://localhost:8080/",
          "height": 221
        }
      },
      "cell_type": "code",
      "source": [
        "# case by sound, test case from Wikipedia\n",
        "TEST_SENTENCEs = ['pig latin banana happy duck me too', 'smile string stupid glove trash floor store', \\\n",
        "                  'eat omelet are egg explain always ends honest i', 'every another under island elegant']\n",
        "for t in TEST_SENTENCEs:\n",
        "  translated = translate_sentence(t, rnn_attn_encoder, rnn_attn_decoder, None, args)\n",
        "  print(\"source:\\t\\t{} \\ntranslated:\\t{}\\n\".format(t, translated))"
      ],
      "execution_count": 0,
      "outputs": [
        {
          "output_type": "stream",
          "text": [
            "source:\t\tpig latin banana happy duck me too \n",
            "translated:\tigpay atinlay ananabay appyhay uckday emay ootay\n",
            "\n",
            "source:\t\tsmile string stupid glove trash floor store \n",
            "translated:\tilesmay ingstray upidstay oveglay ashtray oorflay orestay\n",
            "\n",
            "source:\t\teat omelet are egg explain always ends honest i \n",
            "translated:\teatway omeletway areway eggway explainway alwaysway endsway onesthay iway\n",
            "\n",
            "source:\t\tevery another under island elegant \n",
            "translated:\teveryway anotherway underway islandway elegantway\n",
            "\n"
          ],
          "name": "stdout"
        }
      ]
    },
    {
      "metadata": {
        "id": "G8hr7ASY_QCu",
        "colab_type": "code",
        "outputId": "1ddeb945-d6dd-472c-bfe2-5d9ce3b48ece",
        "colab": {
          "base_uri": "https://localhost:8080/",
          "height": 221
        }
      },
      "cell_type": "code",
      "source": [
        "# RNN test for comparing\n",
        "for t in TEST_SENTENCEs:\n",
        "  translated = translate_sentence(t, rnn_encoder, rnn_decoder, None, args)\n",
        "  print(\"source:\\t\\t{} \\ntranslated:\\t{}\\n\".format(t, translated))"
      ],
      "execution_count": 0,
      "outputs": [
        {
          "output_type": "stream",
          "text": [
            "source:\t\tpig latin banana happy duck me too \n",
            "translated:\tigay ationway anangay aphpay uckpay emay ootay\n",
            "\n",
            "source:\t\tsmile string stupid glove trash floor store \n",
            "translated:\tilesway intedcray uptingsay ovelay arsthay oorway orestay\n",
            "\n",
            "source:\t\teat omelet are egg explain always ends honest i \n",
            "translated:\teatay oofetray areway eghay expaineday aloudenay endsay onteshay iway\n",
            "\n",
            "source:\t\tevery another under island elegant \n",
            "translated:\teveghay antolray uncheway infichtay elenay-oncedway\n",
            "\n"
          ],
          "name": "stdout"
        }
      ]
    },
    {
      "metadata": {
        "id": "LWZu9LLPi_a8",
        "colab_type": "text"
      },
      "cell_type": "markdown",
      "source": [
        "### Scaled dot-product method"
      ]
    },
    {
      "metadata": {
        "id": "SI6H2zumjKNX",
        "colab_type": "code",
        "outputId": "85991f0c-73ff-4d36-cc1a-87c11daa40e0",
        "colab": {
          "base_uri": "https://localhost:8080/",
          "height": 2264
        }
      },
      "cell_type": "code",
      "source": [
        "start_time = time.time()\n",
        "TEST_SENTENCE = 'the air conditioning is working'\n",
        "\n",
        "args = AttrDict()\n",
        "args_dict = {\n",
        "              'cuda':True, \n",
        "              'nepochs':100, \n",
        "              'checkpoint_dir':\"checkpoints\", \n",
        "              'learning_rate':0.005, \n",
        "              'lr_decay':0.99,\n",
        "              'batch_size':64, \n",
        "              'hidden_size':20, \n",
        "              'decoder_type': 'rnn_attention', # options: rnn / rnn_attention / transformer\n",
        "              'attention_type': 'scaled_dot',  # options: additive / scaled_dot\n",
        "}\n",
        "args.update(args_dict)\n",
        "\n",
        "print_opts(args)\n",
        "rnn_attn_encoder, rnn_attn_decoder = train(args)\n",
        "\n",
        "translated = translate_sentence(TEST_SENTENCE, rnn_attn_encoder, rnn_attn_decoder, None, args)\n",
        "print(\"source:\\t\\t{} \\ntranslated:\\t{}\".format(TEST_SENTENCE, translated))\n",
        "print(\"time takes: {}s\".format(time.time() - start_time))"
      ],
      "execution_count": 0,
      "outputs": [
        {
          "output_type": "stream",
          "text": [
            "================================================================================\n",
            "                                      Opts                                      \n",
            "--------------------------------------------------------------------------------\n",
            "                            hidden_size: 20                                     \n",
            "                          learning_rate: 0.005                                  \n",
            "                             batch_size: 64                                     \n",
            "                                nepochs: 100                                    \n",
            "                                   cuda: 1                                      \n",
            "                         checkpoint_dir: checkpoints                            \n",
            "                           decoder_type: rnn_attention                          \n",
            "                               lr_decay: 0.99                                   \n",
            "                         attention_type: scaled_dot                             \n",
            "================================================================================\n",
            "================================================================================\n",
            "                                   Data Stats                                   \n",
            "--------------------------------------------------------------------------------\n",
            "('payment', 'aymentpay')\n",
            "('ordination', 'ordinationway')\n",
            "('amends', 'amendsway')\n",
            "('principally', 'incipallypray')\n",
            "('anybody', 'anybodyway')\n",
            "Num unique word pairs: 6387\n",
            "Vocabulary: ['EOS', '-', 'SOS', 'a', 'c', 'b', 'e', 'd', 'g', 'f', 'i', 'h', 'k', 'j', 'm', 'l', 'o', 'n', 'q', 'p', 's', 'r', 'u', 't', 'w', 'v', 'y', 'x', 'z']\n",
            "Vocab size: 29\n",
            "================================================================================\n",
            "Moved models to GPU!\n"
          ],
          "name": "stdout"
        },
        {
          "output_type": "stream",
          "text": [
            "/usr/local/lib/python2.7/dist-packages/torch/serialization.py:251: UserWarning: Couldn't retrieve source code for container of type ScaledDotAttention. It won't be checked for correctness upon loading.\n",
            "  \"type \" + obj.__name__ + \". It won't be checked \"\n"
          ],
          "name": "stderr"
        },
        {
          "output_type": "stream",
          "text": [
            "Epoch:   0 | Train loss: 2.364 | Val loss: 1.994 | Gen: ongay ay ongay ay ongay\n",
            "Epoch:   1 | Train loss: 1.878 | Val loss: 1.774 | Gen: otestay ateray ongongay ay ontay\n",
            "Epoch:   2 | Train loss: 1.651 | Val loss: 1.601 | Gen: ittedhay ateday ontingay issssay ortonghay\n",
            "Epoch:   3 | Train loss: 1.486 | Val loss: 1.475 | Gen: etthay arararaydayday oortintingontingway isseday ortongsay\n",
            "Epoch:   4 | Train loss: 1.310 | Val loss: 1.304 | Gen: ettay airarday ontintingway isssay ortingsay\n",
            "Epoch:   5 | Train loss: 1.163 | Val loss: 1.176 | Gen: eptay airray onistingay issay ortentyedgay\n",
            "Epoch:   6 | Train loss: 1.024 | Val loss: 1.026 | Gen: eptay airday onitiontiongway issay orkingray\n",
            "Epoch:   7 | Train loss: 0.904 | Val loss: 0.961 | Gen: eptay airday onititontiongay ispay orkingsay\n",
            "Epoch:   8 | Train loss: 0.813 | Val loss: 0.902 | Gen: eptay airday onritingway ispay orkingdway\n",
            "Epoch:   9 | Train loss: 0.736 | Val loss: 0.865 | Gen: eattay airday onditingcay isday orkingday\n",
            "Epoch:  10 | Train loss: 0.639 | Val loss: 0.701 | Gen: eathay aidday onditiongway isway orkingingway\n",
            "Epoch:  11 | Train loss: 0.586 | Val loss: 0.664 | Gen: eatthay airdway onditioncay isway orkingway\n",
            "Epoch:  12 | Train loss: 0.516 | Val loss: 0.591 | Gen: eay airday onditioncay isway orkingway\n",
            "Epoch:  13 | Train loss: 0.456 | Val loss: 0.571 | Gen: eay airray onditioncay isway orkingway\n",
            "Epoch:  14 | Train loss: 0.455 | Val loss: 0.594 | Gen: ewhay airway onditioncay isway orkingway\n",
            "Epoch:  15 | Train loss: 0.438 | Val loss: 0.622 | Gen: ewhay airray onditiongay isway orkingway\n",
            "Epoch:  16 | Train loss: 0.520 | Val loss: 0.691 | Gen: ewhay airway onditingcay isway orkingway\n",
            "Epoch:  17 | Train loss: 0.519 | Val loss: 0.539 | Gen: ewhay airray onditioncay isbay orkingway\n",
            "Epoch:  18 | Train loss: 0.373 | Val loss: 0.462 | Gen: ewhay airway onditiongcay isway orkingway\n",
            "Epoch:  19 | Train loss: 0.288 | Val loss: 0.417 | Gen: ewhay airay onditiongcay isway orkingway\n",
            "Epoch:  20 | Train loss: 0.262 | Val loss: 0.409 | Gen: eay airay onditiongcay isway orkingway\n",
            "Epoch:  21 | Train loss: 0.270 | Val loss: 0.388 | Gen: eay airay onditiongcay isway orkingway\n",
            "Epoch:  22 | Train loss: 0.209 | Val loss: 0.351 | Gen: eay airay onditiongay isway orkingway\n",
            "Epoch:  23 | Train loss: 0.233 | Val loss: 0.383 | Gen: eay airway onditiongcay isway orkingway\n",
            "Epoch:  24 | Train loss: 0.201 | Val loss: 0.331 | Gen: eay airay onditiongcay isway orkingway\n",
            "Epoch:  25 | Train loss: 0.193 | Val loss: 0.320 | Gen: eay airaay onditiontway isway orkingway\n",
            "Epoch:  26 | Train loss: 0.218 | Val loss: 0.322 | Gen: ephay airway onditiongcay isway orkingway\n",
            "Epoch:  27 | Train loss: 0.161 | Val loss: 0.288 | Gen: epay airway onditiontway isway orkingway\n",
            "Epoch:  28 | Train loss: 0.145 | Val loss: 0.294 | Gen: ehay airay onditioningcay isway orkingway\n",
            "Epoch:  29 | Train loss: 0.116 | Val loss: 0.266 | Gen: ehay airway onditioningcay isway orkingway\n",
            "Epoch:  30 | Train loss: 0.105 | Val loss: 0.292 | Gen: ehay airway onditiongcay isway orkingway\n",
            "Epoch:  31 | Train loss: 0.113 | Val loss: 0.361 | Gen: ethay airay onditiontway isway orkingway\n",
            "Epoch:  32 | Train loss: 0.167 | Val loss: 0.313 | Gen: ehay airway onditiontway isway orkingway\n",
            "Epoch:  33 | Train loss: 0.174 | Val loss: 0.332 | Gen: eay airway onditiongcay isway orkingway\n",
            "Epoch:  34 | Train loss: 0.178 | Val loss: 0.260 | Gen: ehay airway onditioningcay isway orkingway\n",
            "Epoch:  35 | Train loss: 0.135 | Val loss: 0.245 | Gen: ehay airway onditioniclay isway orkingway\n",
            "Epoch:  36 | Train loss: 0.120 | Val loss: 0.231 | Gen: ehay airway onditiongcay isway orkingway\n",
            "Epoch:  37 | Train loss: 0.080 | Val loss: 0.219 | Gen: ehay airway onditioningcay isway orkingway\n",
            "Epoch:  38 | Train loss: 0.060 | Val loss: 0.207 | Gen: eththay airway onditioningcay isway orkingway\n",
            "Epoch:  39 | Train loss: 0.055 | Val loss: 0.237 | Gen: ehay airway onditioningcay isway orkingway\n",
            "Epoch:  40 | Train loss: 0.054 | Val loss: 0.193 | Gen: ethay airway onditioningcay isway orkingway\n",
            "Epoch:  41 | Train loss: 0.044 | Val loss: 0.198 | Gen: ethay airway onditioningcay isway orkingway\n",
            "Epoch:  42 | Train loss: 0.039 | Val loss: 0.201 | Gen: ethay airway onditioningcay isway orkingway\n",
            "Epoch:  43 | Train loss: 0.035 | Val loss: 0.193 | Gen: ehay airway onditioningcay isway orkingway\n",
            "Epoch:  44 | Train loss: 0.131 | Val loss: 0.317 | Gen: eay airway onditioningcay isway orkingway\n",
            "Epoch:  45 | Train loss: 0.233 | Val loss: 0.652 | Gen: epthay airway unditionblway iswtay orkingway\n",
            "Epoch:  46 | Train loss: 0.479 | Val loss: 0.353 | Gen: etpray airsaiitray onditiontingcay isway orkingway\n",
            "Epoch:  47 | Train loss: 0.203 | Val loss: 0.265 | Gen: ethay airway onditioningcay isway orkingway\n",
            "Epoch:  48 | Train loss: 0.100 | Val loss: 0.238 | Gen: ethay airway onditioningcay isway orkingway\n",
            "Epoch:  49 | Train loss: 0.102 | Val loss: 0.193 | Gen: ethay airway onditioningcay isway orkingway\n",
            "Epoch:  50 | Train loss: 0.064 | Val loss: 0.169 | Gen: ethay airway onditioningcay isway orkingway\n",
            "Epoch:  51 | Train loss: 0.044 | Val loss: 0.169 | Gen: ethay airway onditioningcay isway orkingway\n",
            "Epoch:  52 | Train loss: 0.036 | Val loss: 0.168 | Gen: ethay airway onditioningcay isway orkingway\n",
            "Epoch:  53 | Train loss: 0.031 | Val loss: 0.162 | Gen: ethay airway onditioningcay isway orkingway\n",
            "Epoch:  54 | Train loss: 0.027 | Val loss: 0.160 | Gen: ethay airway onditioningcay isway orkingway\n",
            "Epoch:  55 | Train loss: 0.024 | Val loss: 0.159 | Gen: ethay airway onditioningcay isway orkingway\n",
            "Epoch:  56 | Train loss: 0.022 | Val loss: 0.163 | Gen: ethay airway onditioningcay isway orkingway\n",
            "Epoch:  57 | Train loss: 0.020 | Val loss: 0.155 | Gen: ethay airway onditioningcay isway orkingway\n",
            "Epoch:  58 | Train loss: 0.019 | Val loss: 0.159 | Gen: ethay airway onditioningcay isway orkingway\n",
            "Epoch:  59 | Train loss: 0.017 | Val loss: 0.157 | Gen: ethay airway onditioningcay isway orkingway\n",
            "Epoch:  60 | Train loss: 0.016 | Val loss: 0.152 | Gen: ethay airway onditioningcay isway orkingway\n",
            "Epoch:  61 | Train loss: 0.016 | Val loss: 0.149 | Gen: ethay airway onditioningcay isway orkingway\n",
            "Epoch:  62 | Train loss: 0.017 | Val loss: 0.170 | Gen: ethay airway onditioningcay isway orkingway\n",
            "Epoch:  63 | Train loss: 0.095 | Val loss: 0.398 | Gen: eththat airway onditionway isway orkingway\n",
            "Epoch:  64 | Train loss: 0.247 | Val loss: 0.333 | Gen: eethay airway onditiosingcay isway orkingway\n",
            "Epoch:  65 | Train loss: 0.144 | Val loss: 0.211 | Gen: eethay airway onditiontingcay isway orkingway\n",
            "Epoch:  66 | Train loss: 0.098 | Val loss: 0.307 | Gen: eay airway onditioningcay isway orkingway\n",
            "Epoch:  67 | Train loss: 0.113 | Val loss: 0.195 | Gen: ehay airwaioway onditioningcay isway orkingway\n",
            "Epoch:  68 | Train loss: 0.048 | Val loss: 0.166 | Gen: ehay airway onditioningcay isway orkingway\n",
            "Epoch:  69 | Train loss: 0.037 | Val loss: 0.187 | Gen: ehay airway onditioningcay isway orkingway\n",
            "Epoch:  70 | Train loss: 0.029 | Val loss: 0.186 | Gen: ehay airway onditioningcay isway orkingway\n",
            "Epoch:  71 | Train loss: 0.026 | Val loss: 0.165 | Gen: ehay airway onditioningcay isway orkingway\n",
            "Epoch:  72 | Train loss: 0.019 | Val loss: 0.140 | Gen: ehay airway onditioningcay isway orkingway\n",
            "Epoch:  73 | Train loss: 0.016 | Val loss: 0.153 | Gen: ehay airway onditioningcay isway orkingway\n",
            "Epoch:  74 | Train loss: 0.015 | Val loss: 0.147 | Gen: ehay airway onditioningcay isway orkingway\n",
            "Epoch:  75 | Train loss: 0.013 | Val loss: 0.156 | Gen: ehay airway onditioningcay isway orkingway\n",
            "Epoch:  76 | Train loss: 0.013 | Val loss: 0.149 | Gen: ehay airway onditioningcay isway orkingway\n",
            "Epoch:  77 | Train loss: 0.011 | Val loss: 0.147 | Gen: ehay airway onditioningcay isway orkingway\n",
            "Epoch:  78 | Train loss: 0.011 | Val loss: 0.148 | Gen: ehay airway onditioningcay isway orkingway\n",
            "Epoch:  79 | Train loss: 0.010 | Val loss: 0.159 | Gen: ehay airway onditioningcay isway orkingway\n",
            "Epoch:  80 | Train loss: 0.010 | Val loss: 0.141 | Gen: eay airway onditioningcay isway orkingway\n",
            "Epoch:  81 | Train loss: 0.321 | Val loss: 0.694 | Gen: ehay airway onditionscay isway orkingway\n",
            "Epoch:  82 | Train loss: 0.325 | Val loss: 0.319 | Gen: eay airway onditioningway isway orkingway\n",
            "Epoch:  83 | Train loss: 0.133 | Val loss: 0.224 | Gen: eththay airway onditioningway isway orkingway\n",
            "Epoch:  84 | Train loss: 0.074 | Val loss: 0.178 | Gen: ehay airway onditioningcay isway orkingway\n",
            "Epoch:  85 | Train loss: 0.053 | Val loss: 0.166 | Gen: ehay airway onditioningcay isway orkingway\n",
            "Epoch:  86 | Train loss: 0.039 | Val loss: 0.222 | Gen: ehay airway onditioningcay isway orkingway\n",
            "Epoch:  87 | Train loss: 0.032 | Val loss: 0.142 | Gen: ehay airway onditioningcay isway orkingway\n",
            "Epoch:  88 | Train loss: 0.026 | Val loss: 0.143 | Gen: ehay airway onditioningcay isway orkingway\n",
            "Epoch:  89 | Train loss: 0.021 | Val loss: 0.141 | Gen: ehay airway onditioningcay isway orkingway\n",
            "Epoch:  90 | Train loss: 0.018 | Val loss: 0.148 | Gen: eay airway onditioningcay isway orkingway\n",
            "Epoch:  91 | Train loss: 0.016 | Val loss: 0.143 | Gen: eay airway onditioningcay isway orkingway\n",
            "Epoch:  92 | Train loss: 0.014 | Val loss: 0.139 | Gen: eay airway onditioningcay isway orkingway\n",
            "Epoch:  93 | Train loss: 0.013 | Val loss: 0.136 | Gen: eay airway onditioningcay isway orkingway\n",
            "Epoch:  94 | Train loss: 0.012 | Val loss: 0.134 | Gen: eay airway onditioningcay isway orkingway\n",
            "Epoch:  95 | Train loss: 0.011 | Val loss: 0.130 | Gen: eay airway onditioningcay isway orkingway\n",
            "Epoch:  96 | Train loss: 0.011 | Val loss: 0.129 | Gen: eay airway onditioningcay isway orkingway\n",
            "Epoch:  97 | Train loss: 0.010 | Val loss: 0.137 | Gen: eay airway onditioningcay isway orkingway\n",
            "Epoch:  98 | Train loss: 0.009 | Val loss: 0.122 | Gen: eay airway onditioningcay isway orkingway\n",
            "Epoch:  99 | Train loss: 0.008 | Val loss: 0.132 | Gen: eay airway onditioningcay isway orkingway\n",
            "source:\t\tthe air conditioning is working \n",
            "translated:\teay airway onditioningcay isway orkingway\n",
            "time takes: 661.984880924s\n"
          ],
          "name": "stdout"
        }
      ]
    },
    {
      "metadata": {
        "id": "h4talewzjSUW",
        "colab_type": "code",
        "outputId": "78870b97-9ef7-431c-8e15-f7eb0aa61b9d",
        "colab": {
          "base_uri": "https://localhost:8080/",
          "height": 221
        }
      },
      "cell_type": "code",
      "source": [
        "TEST_SENTENCEs = ['the is are above below have', 'name car cars hear hears people toleration insensibility', \\\n",
        "                  'move work works working worked bring brought', 'cherrful hysterical countless']\n",
        "for t in TEST_SENTENCEs:\n",
        "  translated = translate_sentence(t, rnn_attn_encoder, rnn_attn_decoder, None, args)\n",
        "  print(\"source:\\t\\t{} \\ntranslated:\\t{}\\n\".format(t, translated))"
      ],
      "execution_count": 0,
      "outputs": [
        {
          "output_type": "stream",
          "text": [
            "source:\t\tthe is are above below have \n",
            "translated:\teay isway areway aboveway elowbay avehay\n",
            "\n",
            "source:\t\tname car cars hear hears people toleration insensibility \n",
            "translated:\tamenay arcay arscay earhay earshay eoplepay olerationtay insensibilityway\n",
            "\n",
            "source:\t\tmove work works working worked bring brought \n",
            "translated:\tovemay orkway orksway orkingway orkedway ingbray oughtbray\n",
            "\n",
            "source:\t\tcherrful hysterical countless \n",
            "translated:\terrfulchay ystericalay ountlesscay\n",
            "\n"
          ],
          "name": "stdout"
        }
      ]
    },
    {
      "metadata": {
        "id": "IoDnc_zKjUS-",
        "colab_type": "code",
        "outputId": "cee97d19-6585-4a11-e6b4-3ff07e2590c9",
        "colab": {
          "base_uri": "https://localhost:8080/",
          "height": 221
        }
      },
      "cell_type": "code",
      "source": [
        "TEST_SENTENCEs = ['pig latin banana happy duck me too', 'smile string stupid glove trash floor store', \\\n",
        "                  'eat omelet are egg explain always ends honest i', 'every another under island elegant']\n",
        "for t in TEST_SENTENCEs:\n",
        "  translated = translate_sentence(t, rnn_attn_encoder, rnn_attn_decoder, None, args)\n",
        "  print(\"source:\\t\\t{} \\ntranslated:\\t{}\\n\".format(t, translated))"
      ],
      "execution_count": 0,
      "outputs": [
        {
          "output_type": "stream",
          "text": [
            "source:\t\tpig latin banana happy duck me too \n",
            "translated:\tigpay atinlay ananay-bay appyhay uckday emay ootay\n",
            "\n",
            "source:\t\tsmile string stupid glove trash floor store \n",
            "translated:\tilesmay ingstray upidstay oveglay ashtray oorflay orestay\n",
            "\n",
            "source:\t\teat omelet are egg explain always ends honest i \n",
            "translated:\teatway omeletway areway eggway explainway alwaysway endsway onesthay iway\n",
            "\n",
            "source:\t\tevery another under island elegant \n",
            "translated:\teveryway anotherway underway islandway elegantway\n",
            "\n"
          ],
          "name": "stdout"
        }
      ]
    },
    {
      "metadata": {
        "id": "X8FaZZUWRpY9",
        "colab_type": "text"
      },
      "cell_type": "markdown",
      "source": [
        "## Transformer"
      ]
    },
    {
      "metadata": {
        "id": "Ik5rx9qw9KCg",
        "colab_type": "code",
        "outputId": "f1bc9172-c362-4623-ff0b-e2df80b4fed6",
        "colab": {
          "base_uri": "https://localhost:8080/",
          "height": 2366
        }
      },
      "cell_type": "code",
      "source": [
        "start_time = time.time()\n",
        "TEST_SENTENCE = 'the air conditioning is working'\n",
        "\n",
        "args = AttrDict()\n",
        "args_dict = {\n",
        "              'cuda':True, \n",
        "              'nepochs':100, \n",
        "              'checkpoint_dir':\"checkpoints\", \n",
        "              'learning_rate':0.005, \n",
        "              'lr_decay':0.99,\n",
        "              'batch_size':64, \n",
        "              'hidden_size':20, \n",
        "              'decoder_type': 'transformer', # options: rnn / rnn_attention / transformer\n",
        "              'num_transformer_layers': 3,\n",
        "}\n",
        "args.update(args_dict)\n",
        "\n",
        "print_opts(args)\n",
        "transformer_encoder, transformer_decoder = train(args)\n",
        "\n",
        "translated = translate_sentence(TEST_SENTENCE, transformer_encoder, transformer_decoder, None, args)\n",
        "print(\"source:\\t\\t{} \\ntranslated:\\t{}\".format(TEST_SENTENCE, translated))\n",
        "print(\"time takes: {}s\".format(time.time() - start_time))"
      ],
      "execution_count": 13,
      "outputs": [
        {
          "output_type": "stream",
          "text": [
            "================================================================================\n",
            "                                      Opts                                      \n",
            "--------------------------------------------------------------------------------\n",
            "                            hidden_size: 20                                     \n",
            "                          learning_rate: 0.005                                  \n",
            "                 num_transformer_layers: 3                                      \n",
            "                             batch_size: 64                                     \n",
            "                                nepochs: 100                                    \n",
            "                                   cuda: 1                                      \n",
            "                         checkpoint_dir: checkpoints                            \n",
            "                           decoder_type: transformer                            \n",
            "                               lr_decay: 0.99                                   \n",
            "================================================================================\n",
            "================================================================================\n",
            "                                   Data Stats                                   \n",
            "--------------------------------------------------------------------------------\n",
            "('payment', 'aymentpay')\n",
            "('ordination', 'ordinationway')\n",
            "('amends', 'amendsway')\n",
            "('principally', 'incipallypray')\n",
            "('anybody', 'anybodyway')\n",
            "Num unique word pairs: 6387\n",
            "Vocabulary: ['EOS', '-', 'SOS', 'a', 'c', 'b', 'e', 'd', 'g', 'f', 'i', 'h', 'k', 'j', 'm', 'l', 'o', 'n', 'q', 'p', 's', 'r', 'u', 't', 'w', 'v', 'y', 'x', 'z']\n",
            "Vocab size: 29\n",
            "================================================================================\n",
            "Moved models to GPU!\n"
          ],
          "name": "stdout"
        },
        {
          "output_type": "stream",
          "text": [
            "/usr/local/lib/python2.7/dist-packages/torch/serialization.py:251: UserWarning: Couldn't retrieve source code for container of type GRUEncoder. It won't be checked for correctness upon loading.\n",
            "  \"type \" + obj.__name__ + \". It won't be checked \"\n",
            "/usr/local/lib/python2.7/dist-packages/torch/serialization.py:251: UserWarning: Couldn't retrieve source code for container of type TransformerDecoder. It won't be checked for correctness upon loading.\n",
            "  \"type \" + obj.__name__ + \". It won't be checked \"\n",
            "/usr/local/lib/python2.7/dist-packages/torch/serialization.py:251: UserWarning: Couldn't retrieve source code for container of type CausalScaledDotAttention. It won't be checked for correctness upon loading.\n",
            "  \"type \" + obj.__name__ + \". It won't be checked \"\n",
            "/usr/local/lib/python2.7/dist-packages/torch/serialization.py:251: UserWarning: Couldn't retrieve source code for container of type ScaledDotAttention. It won't be checked for correctness upon loading.\n",
            "  \"type \" + obj.__name__ + \". It won't be checked \"\n"
          ],
          "name": "stderr"
        },
        {
          "output_type": "stream",
          "text": [
            "Epoch:   0 | Train loss: 2.184 | Val loss: 1.720 | Gen: etthay aray ongingingingingingin istinsay ongingingingingingin\n",
            "Epoch:   1 | Train loss: 1.551 | Val loss: 1.351 | Gen: eththay airairay ongindinday isssssssstay orrray\n",
            "Epoch:   2 | Train loss: 1.173 | Val loss: 1.096 | Gen: eththay airrwray onditiongtiongtiongt isisississsisssisspa orwgingway\n",
            "Epoch:   3 | Train loss: 0.917 | Val loss: 0.915 | Gen: ethay airway oniongsiongtiongtion ispispay orway\n",
            "Epoch:   4 | Train loss: 0.738 | Val loss: 0.772 | Gen: ethay airway oncay ispay orway\n",
            "Epoch:   5 | Train loss: 0.707 | Val loss: 0.701 | Gen: ethay airway onditiongliongsiongw ispay orkingway\n",
            "Epoch:   6 | Train loss: 0.536 | Val loss: 0.584 | Gen: ethay airway ondiongcay isisway orvingway\n",
            "Epoch:   7 | Train loss: 0.440 | Val loss: 0.508 | Gen: ethay airway ondingcay isway orwgingway\n",
            "Epoch:   8 | Train loss: 0.386 | Val loss: 0.448 | Gen: ethay airway ondiningcay isway orvingway\n",
            "Epoch:   9 | Train loss: 0.416 | Val loss: 0.513 | Gen: ethay airway ondinininaycay isway orkingway\n",
            "Epoch:  10 | Train loss: 0.406 | Val loss: 0.380 | Gen: ethay airway ondioningcay isway orwngway\n",
            "Epoch:  11 | Train loss: 0.276 | Val loss: 0.337 | Gen: ethay airway ondingcay isway orkingway\n",
            "Epoch:  12 | Train loss: 0.260 | Val loss: 0.265 | Gen: ethay airway ondiningcay isway orkingway\n",
            "Epoch:  13 | Train loss: 0.219 | Val loss: 0.268 | Gen: ethay airway ondiniongcay isway orkingway\n",
            "Epoch:  14 | Train loss: 0.192 | Val loss: 0.232 | Gen: ethay airway onditingcay isway orkingway\n",
            "Epoch:  15 | Train loss: 0.164 | Val loss: 0.213 | Gen: ethay airway ondiningcay isway orkingway\n",
            "Epoch:  16 | Train loss: 0.148 | Val loss: 0.203 | Gen: ethay airway ondiningcay isway orkingway\n",
            "Epoch:  17 | Train loss: 0.124 | Val loss: 0.159 | Gen: ethay airway onditingcay isway orkingway\n",
            "Epoch:  18 | Train loss: 0.144 | Val loss: 0.188 | Gen: ethay airway onditingcay isway orkingway\n",
            "Epoch:  19 | Train loss: 0.119 | Val loss: 0.172 | Gen: ethay airway ondiningcay isway orkingway\n",
            "Epoch:  20 | Train loss: 0.148 | Val loss: 0.188 | Gen: ethay airway onditingcay isway orkingway\n",
            "Epoch:  21 | Train loss: 0.206 | Val loss: 0.383 | Gen: ethay airway onditingcay isway orkingway\n",
            "Epoch:  22 | Train loss: 0.262 | Val loss: 0.212 | Gen: ethay airway onditingcay isway orkingway\n",
            "Epoch:  23 | Train loss: 0.130 | Val loss: 0.210 | Gen: ethay airway onditingcay isway orkingway\n",
            "Epoch:  24 | Train loss: 0.098 | Val loss: 0.161 | Gen: ethay airway onditingcay isway orkingway\n",
            "Epoch:  25 | Train loss: 0.085 | Val loss: 0.161 | Gen: ethay airway onditingcay isway orkingway\n",
            "Epoch:  26 | Train loss: 0.083 | Val loss: 0.111 | Gen: ethay airway onditingcay isway orkingway\n",
            "Epoch:  27 | Train loss: 0.082 | Val loss: 0.229 | Gen: ethay airway onditingcay isway orkingway\n",
            "Epoch:  28 | Train loss: 0.144 | Val loss: 0.136 | Gen: ethay airway onditiongcay isway orkingway\n",
            "Epoch:  29 | Train loss: 0.071 | Val loss: 0.095 | Gen: ethay airway onditiongcay isway orkingway\n",
            "Epoch:  30 | Train loss: 0.074 | Val loss: 0.161 | Gen: ethay airway onditiongcay isway orkingway\n",
            "Epoch:  31 | Train loss: 0.157 | Val loss: 0.156 | Gen: ethay airway onditiongcay isway orkingway\n",
            "Epoch:  32 | Train loss: 0.108 | Val loss: 0.125 | Gen: ethay airway onditiongcay isway orkingway\n",
            "Epoch:  33 | Train loss: 0.072 | Val loss: 0.078 | Gen: ethay airway onditiongcay isway orkingway\n",
            "Epoch:  34 | Train loss: 0.035 | Val loss: 0.071 | Gen: ethay airway onditiongcay isway orkingway\n",
            "Epoch:  35 | Train loss: 0.122 | Val loss: 0.226 | Gen: ethay airway onditioniongcay isway orkingway\n",
            "Epoch:  36 | Train loss: 0.277 | Val loss: 0.235 | Gen: ethay airway onditiongcay isway orkingway\n",
            "Epoch:  37 | Train loss: 0.131 | Val loss: 0.155 | Gen: ethay airway onditingcay isway orkingway\n",
            "Epoch:  38 | Train loss: 0.049 | Val loss: 0.093 | Gen: ethay airway onditiongcay isway orkingway\n",
            "Epoch:  39 | Train loss: 0.032 | Val loss: 0.099 | Gen: ethay airway onditiningcay isway orkingway\n",
            "Epoch:  40 | Train loss: 0.043 | Val loss: 0.111 | Gen: ethay airway onditiongcay isway orkingway\n",
            "Epoch:  41 | Train loss: 0.093 | Val loss: 0.192 | Gen: ethay airway onditingcay isway orkingway\n",
            "Epoch:  42 | Train loss: 0.087 | Val loss: 0.119 | Gen: ethay airway onditiongcay isway orkingway\n",
            "Epoch:  43 | Train loss: 0.042 | Val loss: 0.074 | Gen: ethay airway onditiongcay isway orkingway\n",
            "Epoch:  44 | Train loss: 0.030 | Val loss: 0.065 | Gen: ethay airway onditingcay isway orkingway\n",
            "Epoch:  45 | Train loss: 0.034 | Val loss: 0.062 | Gen: ethay airway onditiongcay isway orkingway\n",
            "Epoch:  46 | Train loss: 0.016 | Val loss: 0.055 | Gen: ethay airway onditiongcay isway orkingway\n",
            "Epoch:  47 | Train loss: 0.011 | Val loss: 0.050 | Gen: ethay airway onditingcay isway orkingway\n",
            "Epoch:  48 | Train loss: 0.007 | Val loss: 0.043 | Gen: ethay airway onditingcay isway orkingway\n",
            "Epoch:  49 | Train loss: 0.012 | Val loss: 0.049 | Gen: ethay airway onditiongcay isway orkingway\n",
            "Epoch:  50 | Train loss: 0.021 | Val loss: 0.083 | Gen: ethay airway onditingcay isway orkingway\n",
            "Epoch:  51 | Train loss: 0.078 | Val loss: 0.215 | Gen: ethay airway onditiongcay isway orkingway\n",
            "Epoch:  52 | Train loss: 0.141 | Val loss: 0.218 | Gen: ethay airway onditingcay isway orkingway\n",
            "Epoch:  53 | Train loss: 0.207 | Val loss: 0.193 | Gen: ethay airway onditiongcay islay orkingway\n",
            "Epoch:  54 | Train loss: 0.091 | Val loss: 0.080 | Gen: ethay airway onditingcay isway orkingway\n",
            "Epoch:  55 | Train loss: 0.049 | Val loss: 0.062 | Gen: ethay airway onditiongcay isway orkingway\n",
            "Epoch:  56 | Train loss: 0.030 | Val loss: 0.054 | Gen: ethay airway onditiongcay isway orkingway\n",
            "Epoch:  57 | Train loss: 0.018 | Val loss: 0.050 | Gen: ethay airway onditingcay isway orkingway\n",
            "Epoch:  58 | Train loss: 0.011 | Val loss: 0.047 | Gen: ethay airway onditingcay isway orkingway\n",
            "Epoch:  59 | Train loss: 0.010 | Val loss: 0.043 | Gen: ethay airway onditingcay isway orkingway\n",
            "Epoch:  60 | Train loss: 0.009 | Val loss: 0.046 | Gen: ethay airway onditingcay isway orkingway\n",
            "Epoch:  61 | Train loss: 0.011 | Val loss: 0.042 | Gen: ethay airway onditiningcay isway orkingway\n",
            "Epoch:  62 | Train loss: 0.006 | Val loss: 0.041 | Gen: ethay airway onditingcay isway orkingway\n",
            "Epoch:  63 | Train loss: 0.005 | Val loss: 0.039 | Gen: ethay airway onditiningcay isway orkingway\n",
            "Epoch:  64 | Train loss: 0.007 | Val loss: 0.052 | Gen: ethay airway onditiningcay isway orkingway\n",
            "Epoch:  65 | Train loss: 0.012 | Val loss: 0.038 | Gen: ethay airway onditiningcay isway orkingway\n",
            "Epoch:  66 | Train loss: 0.008 | Val loss: 0.058 | Gen: ethay airway onditiongcay isway orkingway\n",
            "Epoch:  67 | Train loss: 0.182 | Val loss: 0.191 | Gen: ethay airway onditiongcay isway orkingway\n",
            "Epoch:  68 | Train loss: 0.145 | Val loss: 0.124 | Gen: ethay airwrway onditingcay isway orkingway\n",
            "Epoch:  69 | Train loss: 0.092 | Val loss: 0.124 | Gen: ethay airway onditiongcay isway orkingway\n",
            "Epoch:  70 | Train loss: 0.042 | Val loss: 0.067 | Gen: ethay airway onditingcay isway orkingway\n",
            "Epoch:  71 | Train loss: 0.029 | Val loss: 0.107 | Gen: ethay airway onditiongcay isway orkingway\n",
            "Epoch:  72 | Train loss: 0.027 | Val loss: 0.051 | Gen: ethay airway onditingcay isway orkingway\n",
            "Epoch:  73 | Train loss: 0.014 | Val loss: 0.044 | Gen: ethay airway onditingcay isway orkingway\n",
            "Epoch:  74 | Train loss: 0.014 | Val loss: 0.048 | Gen: ethay airway onditingcay isway orkingway\n",
            "Epoch:  75 | Train loss: 0.013 | Val loss: 0.041 | Gen: ethay airway onditingcay isway orkingway\n",
            "Epoch:  76 | Train loss: 0.006 | Val loss: 0.039 | Gen: ethay airway onditingcay isway orkingway\n",
            "Epoch:  77 | Train loss: 0.005 | Val loss: 0.040 | Gen: ethay airway onditingcay isway orkingway\n",
            "Epoch:  78 | Train loss: 0.005 | Val loss: 0.041 | Gen: ethay airway onditingcay isway orkingway\n",
            "Epoch:  79 | Train loss: 0.008 | Val loss: 0.043 | Gen: ethay airway onditingcay isway orkingway\n",
            "Epoch:  80 | Train loss: 0.005 | Val loss: 0.041 | Gen: ethay airway onditingcay isway orkingway\n",
            "Epoch:  81 | Train loss: 0.004 | Val loss: 0.046 | Gen: ethay airway onditingcay isway orkingway\n",
            "Epoch:  82 | Train loss: 0.004 | Val loss: 0.044 | Gen: ethay airway onditingcay isway orkingway\n",
            "Epoch:  83 | Train loss: 0.005 | Val loss: 0.053 | Gen: ethay airway onditiongcay isway orkingway\n",
            "Epoch:  84 | Train loss: 0.046 | Val loss: 0.241 | Gen: ethay airway onditingcay isway orkingway\n",
            "Epoch:  85 | Train loss: 0.114 | Val loss: 0.093 | Gen: ethay airway onditingcay isway orkingway\n",
            "Epoch:  86 | Train loss: 0.042 | Val loss: 0.069 | Gen: ethay airway onditingcay isway orkingway\n",
            "Epoch:  87 | Train loss: 0.014 | Val loss: 0.072 | Gen: ethay airway onditiongcay isway orkingway\n",
            "Epoch:  88 | Train loss: 0.013 | Val loss: 0.045 | Gen: ethay airway onditiningcay isway orkingway\n",
            "Epoch:  89 | Train loss: 0.009 | Val loss: 0.052 | Gen: ethay airway onditingcay isway orkingway\n",
            "Epoch:  90 | Train loss: 0.009 | Val loss: 0.037 | Gen: ethay airway onditiongcay isway orkingway\n",
            "Epoch:  91 | Train loss: 0.012 | Val loss: 0.034 | Gen: ethay airway onditiongcay isway orkingway\n",
            "Epoch:  92 | Train loss: 0.009 | Val loss: 0.034 | Gen: ethay airway onditiongcay isway orkingway\n",
            "Epoch:  93 | Train loss: 0.009 | Val loss: 0.035 | Gen: ethay airway onditiongcay isway orkingway\n",
            "Epoch:  94 | Train loss: 0.005 | Val loss: 0.035 | Gen: ethay airway onditiongcay isway orkingway\n",
            "Epoch:  95 | Train loss: 0.005 | Val loss: 0.037 | Gen: ethay airway onditiningcay isway orkingway\n",
            "Epoch:  96 | Train loss: 0.005 | Val loss: 0.035 | Gen: ethay airway onditingcay isway orkingway\n",
            "Epoch:  97 | Train loss: 0.007 | Val loss: 0.036 | Gen: ethay airway onditingcay isway orkingway\n",
            "Epoch:  98 | Train loss: 0.085 | Val loss: 0.066 | Gen: ethay airway onditiongcay isway orkingway\n",
            "Epoch:  99 | Train loss: 0.026 | Val loss: 0.038 | Gen: ethay airway onditiningcay isway orkingway\n",
            "source:\t\tthe air conditioning is working \n",
            "translated:\tethay airway onditiningcay isway orkingway\n",
            "time takes: 322.095103025s\n"
          ],
          "name": "stdout"
        }
      ]
    },
    {
      "metadata": {
        "id": "ULCMHm5ZF7vx",
        "colab_type": "code",
        "outputId": "929dd555-3d7e-4ebe-c47d-0d07bef58e08",
        "colab": {
          "base_uri": "https://localhost:8080/",
          "height": 153
        }
      },
      "cell_type": "code",
      "source": [
        "# TEST_SENTENCE = 'the air conditioning is working'\n",
        "TEST_SENTENCEs = ['the is are above below have', 'name car cars hear hears people toleration insensibility', \\\n",
        "                  'move work works working worked bring brought', 'cherrful hysterical countless']\n",
        "for t in TEST_SENTENCEs:\n",
        "  translated = translate_sentence(t, transformer_encoder, transformer_decoder, None, args)\n",
        "  print(\"source:\\t\\t{} \\ntranslated:\\t{}\".format(t, translated))"
      ],
      "execution_count": 15,
      "outputs": [
        {
          "output_type": "stream",
          "text": [
            "source:\t\tthe is are above below have \n",
            "translated:\tethay isway areway aboveway elowbay avehay\n",
            "source:\t\tname car cars hear hears people toleration insensibility \n",
            "translated:\tamenay arcay arscay earhay earshay eoplepay olerationtay insensibityway\n",
            "source:\t\tmove work works working worked bring brought \n",
            "translated:\tovemay orkway orksway orkingway orkedway ingbray oughtbray\n",
            "source:\t\tcherrful hysterical countless \n",
            "translated:\terrfulchay ystericalhay ountlesscay\n"
          ],
          "name": "stdout"
        }
      ]
    },
    {
      "metadata": {
        "id": "ifmJxuVsedG-",
        "colab_type": "code",
        "outputId": "2a52e882-653d-4a7b-875a-e3f6c4d0d7fd",
        "colab": {
          "base_uri": "https://localhost:8080/",
          "height": 153
        }
      },
      "cell_type": "code",
      "source": [
        "TEST_SENTENCEs = ['pig latin banana happy duck me too', 'smile string stupid glove trash floor store', \\\n",
        "                  'eat omelet are egg explain always ends honest i', 'every another under island elegant']\n",
        "for t in TEST_SENTENCEs:\n",
        "  translated = translate_sentence(t, transformer_encoder, transformer_decoder, None, args)\n",
        "  print(\"source:\\t\\t{} \\ntranslated:\\t{}\".format(t, translated))"
      ],
      "execution_count": 16,
      "outputs": [
        {
          "output_type": "stream",
          "text": [
            "source:\t\tpig latin banana happy duck me too \n",
            "translated:\tigpay atinlay anananay appyhay uckday emay ootay\n",
            "source:\t\tsmile string stupid glove trash floor store \n",
            "translated:\tilesmay ingstray upidstay oveglay ashtray oorflay orestay\n",
            "source:\t\teat omelet are egg explain always ends honest i \n",
            "translated:\teatway omeletway areway eggway explainway alwaysway endsway onesthay iway\n",
            "source:\t\tevery another under island elegant \n",
            "translated:\teveryway anotherway underway islandway elegantway\n"
          ],
          "name": "stdout"
        }
      ]
    },
    {
      "metadata": {
        "id": "qbfZCByITOI6",
        "colab_type": "text"
      },
      "cell_type": "markdown",
      "source": [
        "# Attention visualization"
      ]
    },
    {
      "metadata": {
        "id": "itCGMv3FdXsn",
        "colab_type": "code",
        "colab": {}
      },
      "cell_type": "code",
      "source": [
        "TEST_WORD_ATTNs = 'street cake drink aardvark well-mannered notexist'.split()"
      ],
      "execution_count": 0,
      "outputs": []
    },
    {
      "metadata": {
        "id": "xBv4QQuBiU-V",
        "colab_type": "text"
      },
      "cell_type": "markdown",
      "source": [
        "## Visualize RNN attention map"
      ]
    },
    {
      "metadata": {
        "id": "aXvqoQYONMTA",
        "colab_type": "code",
        "outputId": "6ec98cfa-0037-490c-d43b-aa1e933dea5d",
        "colab": {
          "base_uri": "https://localhost:8080/",
          "height": 2426
        }
      },
      "cell_type": "code",
      "source": [
        "args_dict = {\n",
        "              'cuda':True, \n",
        "              'nepochs':100, \n",
        "              'checkpoint_dir':\"checkpoints\", \n",
        "              'learning_rate':0.005, \n",
        "              'lr_decay':0.99,\n",
        "              'batch_size':64, \n",
        "              'hidden_size':20, \n",
        "              'decoder_type': 'rnn_attention', # options: rnn / rnn_attention / transformer\n",
        "              'attention_type': 'scaled_dot',  # options: additive / scaled_dot\n",
        "}\n",
        "args.update(args_dict)\n",
        "for word in TEST_WORD_ATTNs:\n",
        "  print('word: {}, translation: {}'.format(word, translate_sentence(word, rnn_attn_encoder, rnn_attn_decoder, None, args)))\n",
        "  visualize_attention(word, rnn_attn_encoder, rnn_attn_decoder, None, args)"
      ],
      "execution_count": 0,
      "outputs": [
        {
          "output_type": "stream",
          "text": [
            "word: street, translation: eetstray\n"
          ],
          "name": "stdout"
        },
        {
          "output_type": "display_data",
          "data": {
            "image/png": "[encoded data removed]",
            "text/plain": [
              "<Figure size 576x396 with 2 Axes>"
            ]
          },
          "metadata": {
            "tags": []
          }
        },
        {
          "output_type": "stream",
          "text": [
            "word: cake, translation: akecay\n"
          ],
          "name": "stdout"
        },
        {
          "output_type": "display_data",
          "data": {
            "image/png": "[encoded data removed]",
            "text/plain": [
              "<Figure size 576x396 with 2 Axes>"
            ]
          },
          "metadata": {
            "tags": []
          }
        },
        {
          "output_type": "stream",
          "text": [
            "word: drink, translation: inkdray\n"
          ],
          "name": "stdout"
        },
        {
          "output_type": "display_data",
          "data": {
            "image/png": "[encoded data removed]",
            "text/plain": [
              "<Figure size 576x396 with 2 Axes>"
            ]
          },
          "metadata": {
            "tags": []
          }
        },
        {
          "output_type": "stream",
          "text": [
            "word: aardvark, translation: aeddvarkway\n"
          ],
          "name": "stdout"
        },
        {
          "output_type": "display_data",
          "data": {
            "image/png": "[encoded data removed]",
            "text/plain": [
              "<Figure size 576x396 with 2 Axes>"
            ]
          },
          "metadata": {
            "tags": []
          }
        },
        {
          "output_type": "stream",
          "text": [
            "word: well-mannered, translation: ellway-annedemay\n"
          ],
          "name": "stdout"
        },
        {
          "output_type": "display_data",
          "data": {
            "image/png": "[encoded data removed]",
            "text/plain": [
              "<Figure size 576x396 with 2 Axes>"
            ]
          },
          "metadata": {
            "tags": []
          }
        },
        {
          "output_type": "stream",
          "text": [
            "word: notexist, translation: otexistnay\n"
          ],
          "name": "stdout"
        },
        {
          "output_type": "display_data",
          "data": {
            "image/png": "[encoded data removed]",
            "text/plain": [
              "<Figure size 576x396 with 2 Axes>"
            ]
          },
          "metadata": {
            "tags": []
          }
        }
      ]
    },
    {
      "metadata": {
        "id": "xuOvxfA1NMz3",
        "colab_type": "text"
      },
      "cell_type": "markdown",
      "source": [
        "## Visualize transformer attention maps from all the transformer layers"
      ]
    },
    {
      "metadata": {
        "id": "HSSB4wd8-M7g",
        "colab_type": "code",
        "outputId": "0876cbd8-da6f-480c-99f7-8196de9a853d",
        "colab": {
          "base_uri": "https://localhost:8080/",
          "height": 5192
        }
      },
      "cell_type": "code",
      "source": [
        "args_dict = {\n",
        "              'cuda':True, \n",
        "              'nepochs':100, \n",
        "              'checkpoint_dir':\"checkpoints\", \n",
        "              'learning_rate':0.005, \n",
        "              'lr_decay':0.99,\n",
        "              'batch_size':64, \n",
        "              'hidden_size':20, \n",
        "              'decoder_type': 'transformer', # options: rnn / rnn_attention / transformer\n",
        "              'num_transformer_layers': 3,\n",
        "}\n",
        "args.update(args_dict)\n",
        "for word in TEST_WORD_ATTNs:\n",
        "  print('word: {}, translation: {}'.format(word, translate_sentence(word, transformer_encoder, transformer_decoder, None, args)))\n",
        "  visualize_attention(word, transformer_encoder, transformer_decoder, None, args, )"
      ],
      "execution_count": 20,
      "outputs": [
        {
          "output_type": "stream",
          "text": [
            "word: street, translation: eetstray\n"
          ],
          "name": "stdout"
        },
        {
          "output_type": "display_data",
          "data": {
            "image/png": "[encoded data removed]",
            "text/plain": [
              "<Figure size 432x288 with 2 Axes>"
            ]
          },
          "metadata": {
            "tags": []
          }
        },
        {
          "output_type": "display_data",
          "data": {
            "image/png": "[encoded data removed]",
            "text/plain": [
              "<Figure size 432x288 with 2 Axes>"
            ]
          },
          "metadata": {
            "tags": []
          }
        },
        {
          "output_type": "display_data",
          "data": {
            "image/png": "[encoded data removed]",
            "text/plain": [
              "<Figure size 432x288 with 2 Axes>"
            ]
          },
          "metadata": {
            "tags": []
          }
        },
        {
          "output_type": "stream",
          "text": [
            "word: cake, translation: akecay\n"
          ],
          "name": "stdout"
        },
        {
          "output_type": "display_data",
          "data": {
            "image/png": "[encoded data removed]",
            "text/plain": [
              "<Figure size 432x288 with 2 Axes>"
            ]
          },
          "metadata": {
            "tags": []
          }
        },
        {
          "output_type": "display_data",
          "data": {
            "image/png": "[encoded data removed]",
            "text/plain": [
              "<Figure size 432x288 with 2 Axes>"
            ]
          },
          "metadata": {
            "tags": []
          }
        },
        {
          "output_type": "display_data",
          "data": {
            "image/png": "[encoded data removed]",
            "text/plain": [
              "<Figure size 432x288 with 2 Axes>"
            ]
          },
          "metadata": {
            "tags": []
          }
        },
        {
          "output_type": "stream",
          "text": [
            "word: drink, translation: inkdray\n"
          ],
          "name": "stdout"
        },
        {
          "output_type": "display_data",
          "data": {
            "image/png": "[encoded data removed]",
            "text/plain": [
              "<Figure size 432x288 with 2 Axes>"
            ]
          },
          "metadata": {
            "tags": []
          }
        },
        {
          "output_type": "display_data",
          "data": {
            "image/png": "[encoded data removed]",
            "text/plain": [
              "<Figure size 432x288 with 2 Axes>"
            ]
          },
          "metadata": {
            "tags": []
          }
        },
        {
          "output_type": "display_data",
          "data": {
            "image/png": "[encoded data removed]",
            "text/plain": [
              "<Figure size 432x288 with 2 Axes>"
            ]
          },
          "metadata": {
            "tags": []
          }
        },
        {
          "output_type": "stream",
          "text": [
            "word: aardvark, translation: aardvarkway\n"
          ],
          "name": "stdout"
        },
        {
          "output_type": "display_data",
          "data": {
            "image/png": "[encoded data removed]",
            "text/plain": [
              "<Figure size 432x288 with 2 Axes>"
            ]
          },
          "metadata": {
            "tags": []
          }
        },
        {
          "output_type": "display_data",
          "data": {
            "image/png": "[encoded data removed]",
            "text/plain": [
              "<Figure size 432x288 with 2 Axes>"
            ]
          },
          "metadata": {
            "tags": []
          }
        },
        {
          "output_type": "display_data",
          "data": {
            "image/png": "[encoded data removed]",
            "text/plain": [
              "<Figure size 432x288 with 2 Axes>"
            ]
          },
          "metadata": {
            "tags": []
          }
        },
        {
          "output_type": "stream",
          "text": [
            "word: well-mannered, translation: ellway-annnedmay\n"
          ],
          "name": "stdout"
        },
        {
          "output_type": "display_data",
          "data": {
            "image/png": "[encoded data removed]",
            "text/plain": [
              "<Figure size 432x288 with 2 Axes>"
            ]
          },
          "metadata": {
            "tags": []
          }
        },
        {
          "output_type": "display_data",
          "data": {
            "image/png": "[encoded data removed]",
            "text/plain": [
              "<Figure size 432x288 with 2 Axes>"
            ]
          },
          "metadata": {
            "tags": []
          }
        },
        {
          "output_type": "display_data",
          "data": {
            "image/png": "[encoded data removed]",
            "text/plain": [
              "<Figure size 432x288 with 2 Axes>"
            ]
          },
          "metadata": {
            "tags": []
          }
        },
        {
          "output_type": "stream",
          "text": [
            "word: notexist, translation: otexistnay\n"
          ],
          "name": "stdout"
        },
        {
          "output_type": "display_data",
          "data": {
            "image/png": "[encoded data removed]",
            "text/plain": [
              "<Figure size 432x288 with 2 Axes>"
            ]
          },
          "metadata": {
            "tags": []
          }
        },
        {
          "output_type": "display_data",
          "data": {
            "image/png": "[encoded data removed]",
            "text/plain": [
              "<Figure size 432x288 with 2 Axes>"
            ]
          },
          "metadata": {
            "tags": []
          }
        },
        {
          "output_type": "display_data",
          "data": {
            "image/png": "[encoded data removed]",
            "text/plain": [
              "<Figure size 432x288 with 2 Axes>"
            ]
          },
          "metadata": {
            "tags": []
          }
        }
      ]
    }
  ]
}